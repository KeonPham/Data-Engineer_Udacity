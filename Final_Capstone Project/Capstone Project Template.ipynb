{
 "cells": [
  {
   "cell_type": "markdown",
   "metadata": {
    "editable": true
   },
   "source": [
    "# Project Title\n",
    "### Data Engineering Capstone Project\n",
    "\n",
    "#### Project Summary\n",
    "--describe your project at a high level--\n",
    "\n",
    "The project follows the follow steps:\n",
    "* Step 1: Scope the Project and Gather Data\n",
    "* Step 2: Explore and Assess the Data\n",
    "* Step 3: Define the Data Model\n",
    "* Step 4: Run ETL to Model the Data\n",
    "* Step 5: Complete Project Write Up"
   ]
  },
  {
   "cell_type": "code",
   "execution_count": 2,
   "metadata": {
    "editable": true
   },
   "outputs": [],
   "source": [
    "# Do all imports and installs here\n",
    "from pyspark.sql import SparkSession\n",
    "from pyspark.sql.types import FloatType, IntegerType, TimestampType\n",
    "from pyspark.sql.functions import *\n",
    "import pyspark.sql.functions as F\n",
    "from immigration_codes import country_udf\n",
    "from city_code import city_code_udf,city_codes\n",
    "from abbrev_state import abbrev_state_udf, abbrev_state_list\n",
    "from visa_type import visa_code_udf, visa_code\n",
    "import pyspark.sql.types as T\n",
    "import datetime\n",
    "\n",
    "#Build spark session\n",
    "import os\n",
    "os.environ[\"JAVA_HOME\"] = \"/usr/lib/jvm/java-8-openjdk-amd64\"\n",
    "os.environ[\"PATH\"] = \"/opt/conda/bin:/opt/spark-2.4.3-bin-hadoop2.7/bin:/opt/conda/bin:/usr/local/sbin:/usr/local/bin:/usr/sbin:/usr/bin:/sbin:/bin:/usr/lib/jvm/java-8-openjdk-amd64/bin\"\n",
    "os.environ[\"SPARK_HOME\"] = \"/opt/spark-2.4.3-bin-hadoop2.7\"\n",
    "os.environ[\"HADOOP_HOME\"] = \"/opt/spark-2.4.3-bin-hadoop2.7\"\n",
    "spark = SparkSession.builder\\\n",
    "        .config(\"spark.jars.repositories\", \"https://repos.spark-packages.org/\")\\\n",
    "        .config(\"spark.jars.packages\", \"org.apache.hadoop:hadoop-aws:2.7.0,saurfang:spark-sas7bdat:2.0.0-s_2.11\")\\\n",
    "        .enableHiveSupport().getOrCreate()"
   ]
  },
  {
   "cell_type": "markdown",
   "metadata": {
    "editable": true
   },
   "source": [
    "### Step 1: Scope the Project and Gather Data\n",
    "\n",
    "#### Scope\n",
    "- The project's scope will cover multiple source of data from CSV and SAS data set. \n",
    "- The project will mainly use Spark for data Extraction, Transformation and Load into parquet files and store into a location. \n",
    "- The Spark will be utilized because of its highly powerful process a big dataset and can be applied into such a various data format."
   ]
  },
  {
   "cell_type": "markdown",
   "metadata": {
    "editable": true
   },
   "source": [
    "#### Describe and Gather Data \n",
    "- **I94 Immigration Data**: This data comes from the US National Tourism and Trade Office. A data dictionary is included in the workspace. [This is where the data comes from](https://travel.trade.gov/research/reports/i94/historical/2016.html). There's a sample file so you can take a look at the data in csv format before reading it all in. You do not have to use the entire dataset, just use what you need to accomplish the goal you set at the beginning of the project.\n",
    "- **World Temperature Data**: This dataset came from Kaggle. [You can read more about it here](https://www.kaggle.com/berkeleyearth/climate-change-earth-surface-temperature-data).\n",
    "- **U.S. City Demographic Data**: This data comes from OpenSoft. [You can read more about it here](https://public.opendatasoft.com/explore/dataset/us-cities-demographics/export/).\n",
    "- **Airport Code Table**: This is a simple table of airport codes and corresponding cities. [It comes from here](https://datahub.io/core/airport-codes#data)."
   ]
  },
  {
   "cell_type": "code",
   "execution_count": 3,
   "metadata": {
    "editable": true
   },
   "outputs": [],
   "source": [
    "# Making parquet data for faster reading. The june data set has some additional columns then will be read separately and then union to the rest of months.  \n",
    "immigration_dataset_no_jun = spark.read.format('com.github.saurfang.sas.spark').load(\"../../data/18-83510-I94-Data-2016/i94_jan16_sub.sas7bdat\")\\\n",
    "                    .union(spark.read.format('com.github.saurfang.sas.spark').load(\"../../data/18-83510-I94-Data-2016/i94_feb16_sub.sas7bdat\"))\\\n",
    "                    .union(spark.read.format('com.github.saurfang.sas.spark').load(\"../../data/18-83510-I94-Data-2016/i94_mar16_sub.sas7bdat\"))\\\n",
    "                    .union(spark.read.format('com.github.saurfang.sas.spark').load(\"../../data/18-83510-I94-Data-2016/i94_apr16_sub.sas7bdat\"))\\\n",
    "                    .union(spark.read.format('com.github.saurfang.sas.spark').load(\"../../data/18-83510-I94-Data-2016/i94_may16_sub.sas7bdat\"))\\\n",
    "                    .union(spark.read.format('com.github.saurfang.sas.spark').load(\"../../data/18-83510-I94-Data-2016/i94_jul16_sub.sas7bdat\"))\\\n",
    "                    .union(spark.read.format('com.github.saurfang.sas.spark').load(\"../../data/18-83510-I94-Data-2016/i94_aug16_sub.sas7bdat\"))\\\n",
    "                    .union(spark.read.format('com.github.saurfang.sas.spark').load(\"../../data/18-83510-I94-Data-2016/i94_sep16_sub.sas7bdat\"))\\\n",
    "                    .union(spark.read.format('com.github.saurfang.sas.spark').load(\"../../data/18-83510-I94-Data-2016/i94_oct16_sub.sas7bdat\"))\\\n",
    "                    .union(spark.read.format('com.github.saurfang.sas.spark').load(\"../../data/18-83510-I94-Data-2016/i94_nov16_sub.sas7bdat\"))\\\n",
    "                    .union(spark.read.format('com.github.saurfang.sas.spark').load(\"../../data/18-83510-I94-Data-2016/i94_dec16_sub.sas7bdat\"))\n",
    "immigration_dataset_jun = spark.read.format('com.github.saurfang.sas.spark').load(\"../../data/18-83510-I94-Data-2016/i94_jun16_sub.sas7bdat\")\n",
    "raw_immigration_dataset = immigration_dataset_no_jun.union(immigration_dataset_jun.select(*immigration_dataset_no_jun.columns))\n",
    "raw_immigration_dataset.write.mode(\"overwrite\").parquet(\"input/i94_data\")"
   ]
  },
  {
   "cell_type": "code",
   "execution_count": 3,
   "metadata": {
    "editable": true
   },
   "outputs": [],
   "source": [
    "# Read Parquet Immigration data \n",
    "raw_immigration_df = spark.read.parquet(\"input/i94_data\")\n",
    "\n",
    "# Read Temperatures data\n",
    "raw_temp_df = spark.read.option(\"header\", \"true\").csv(\"../../data2/GlobalLandTemperaturesByCity.csv\")\n",
    "\n",
    "# Read Demographics data\n",
    "raw_demographic_df=spark.read.option(\"header\", \"true\").option(\"delimiter\", \";\").csv(\"input/us-cities-demographics.csv\")\n",
    "\n",
    "# Read Airport codes data\n",
    "raw_airport_df=spark.read.option(\"header\", \"true\").csv(\"input/airport-codes_csv.csv\")"
   ]
  },
  {
   "cell_type": "code",
   "execution_count": 3,
   "metadata": {
    "editable": true
   },
   "outputs": [
    {
     "name": "stdout",
     "output_type": "stream",
     "text": [
      "Immigration dataset records: 40,790,529\n",
      "root\n",
      " |-- cicid: double (nullable = true)\n",
      " |-- i94yr: double (nullable = true)\n",
      " |-- i94mon: double (nullable = true)\n",
      " |-- i94cit: double (nullable = true)\n",
      " |-- i94res: double (nullable = true)\n",
      " |-- i94port: string (nullable = true)\n",
      " |-- arrdate: double (nullable = true)\n",
      " |-- i94mode: double (nullable = true)\n",
      " |-- i94addr: string (nullable = true)\n",
      " |-- depdate: double (nullable = true)\n",
      " |-- i94bir: double (nullable = true)\n",
      " |-- i94visa: double (nullable = true)\n",
      " |-- count: double (nullable = true)\n",
      " |-- dtadfile: string (nullable = true)\n",
      " |-- visapost: string (nullable = true)\n",
      " |-- occup: string (nullable = true)\n",
      " |-- entdepa: string (nullable = true)\n",
      " |-- entdepd: string (nullable = true)\n",
      " |-- entdepu: string (nullable = true)\n",
      " |-- matflag: string (nullable = true)\n",
      " |-- biryear: double (nullable = true)\n",
      " |-- dtaddto: string (nullable = true)\n",
      " |-- gender: string (nullable = true)\n",
      " |-- insnum: string (nullable = true)\n",
      " |-- airline: string (nullable = true)\n",
      " |-- admnum: double (nullable = true)\n",
      " |-- fltno: string (nullable = true)\n",
      " |-- visatype: string (nullable = true)\n",
      "\n"
     ]
    },
    {
     "data": {
      "text/html": [
       "<div>\n",
       "<style scoped>\n",
       "    .dataframe tbody tr th:only-of-type {\n",
       "        vertical-align: middle;\n",
       "    }\n",
       "\n",
       "    .dataframe tbody tr th {\n",
       "        vertical-align: top;\n",
       "    }\n",
       "\n",
       "    .dataframe thead th {\n",
       "        text-align: right;\n",
       "    }\n",
       "</style>\n",
       "<table border=\"1\" class=\"dataframe\">\n",
       "  <thead>\n",
       "    <tr style=\"text-align: right;\">\n",
       "      <th></th>\n",
       "      <th>cicid</th>\n",
       "      <th>i94yr</th>\n",
       "      <th>i94mon</th>\n",
       "      <th>i94cit</th>\n",
       "      <th>i94res</th>\n",
       "      <th>i94port</th>\n",
       "      <th>arrdate</th>\n",
       "      <th>i94mode</th>\n",
       "      <th>i94addr</th>\n",
       "      <th>depdate</th>\n",
       "      <th>...</th>\n",
       "      <th>entdepu</th>\n",
       "      <th>matflag</th>\n",
       "      <th>biryear</th>\n",
       "      <th>dtaddto</th>\n",
       "      <th>gender</th>\n",
       "      <th>insnum</th>\n",
       "      <th>airline</th>\n",
       "      <th>admnum</th>\n",
       "      <th>fltno</th>\n",
       "      <th>visatype</th>\n",
       "    </tr>\n",
       "  </thead>\n",
       "  <tbody>\n",
       "    <tr>\n",
       "      <th>0</th>\n",
       "      <td>5680949.0</td>\n",
       "      <td>2016.0</td>\n",
       "      <td>7.0</td>\n",
       "      <td>117.0</td>\n",
       "      <td>117.0</td>\n",
       "      <td>NYC</td>\n",
       "      <td>20659.0</td>\n",
       "      <td>1.0</td>\n",
       "      <td>NY</td>\n",
       "      <td>NaN</td>\n",
       "      <td>...</td>\n",
       "      <td>None</td>\n",
       "      <td>None</td>\n",
       "      <td>1986.0</td>\n",
       "      <td>D/S</td>\n",
       "      <td>F</td>\n",
       "      <td>None</td>\n",
       "      <td>IG</td>\n",
       "      <td>2.947450e+09</td>\n",
       "      <td>3940</td>\n",
       "      <td>F1</td>\n",
       "    </tr>\n",
       "    <tr>\n",
       "      <th>1</th>\n",
       "      <td>5680950.0</td>\n",
       "      <td>2016.0</td>\n",
       "      <td>7.0</td>\n",
       "      <td>245.0</td>\n",
       "      <td>245.0</td>\n",
       "      <td>DET</td>\n",
       "      <td>20659.0</td>\n",
       "      <td>1.0</td>\n",
       "      <td>IL</td>\n",
       "      <td>20679.0</td>\n",
       "      <td>...</td>\n",
       "      <td>None</td>\n",
       "      <td>M</td>\n",
       "      <td>1970.0</td>\n",
       "      <td>01232017</td>\n",
       "      <td>M</td>\n",
       "      <td>78652</td>\n",
       "      <td>DL</td>\n",
       "      <td>2.947451e+09</td>\n",
       "      <td>188</td>\n",
       "      <td>B2</td>\n",
       "    </tr>\n",
       "    <tr>\n",
       "      <th>2</th>\n",
       "      <td>5680953.0</td>\n",
       "      <td>2016.0</td>\n",
       "      <td>7.0</td>\n",
       "      <td>245.0</td>\n",
       "      <td>245.0</td>\n",
       "      <td>SEA</td>\n",
       "      <td>20659.0</td>\n",
       "      <td>1.0</td>\n",
       "      <td>WA</td>\n",
       "      <td>20670.0</td>\n",
       "      <td>...</td>\n",
       "      <td>None</td>\n",
       "      <td>M</td>\n",
       "      <td>1980.0</td>\n",
       "      <td>01232017</td>\n",
       "      <td>F</td>\n",
       "      <td>130660</td>\n",
       "      <td>OZ</td>\n",
       "      <td>2.947455e+09</td>\n",
       "      <td>272</td>\n",
       "      <td>B2</td>\n",
       "    </tr>\n",
       "    <tr>\n",
       "      <th>3</th>\n",
       "      <td>5680954.0</td>\n",
       "      <td>2016.0</td>\n",
       "      <td>7.0</td>\n",
       "      <td>135.0</td>\n",
       "      <td>135.0</td>\n",
       "      <td>ORL</td>\n",
       "      <td>20659.0</td>\n",
       "      <td>1.0</td>\n",
       "      <td>FL</td>\n",
       "      <td>20673.0</td>\n",
       "      <td>...</td>\n",
       "      <td>None</td>\n",
       "      <td>M</td>\n",
       "      <td>1999.0</td>\n",
       "      <td>10212016</td>\n",
       "      <td>F</td>\n",
       "      <td>294090</td>\n",
       "      <td>MT</td>\n",
       "      <td>2.947456e+09</td>\n",
       "      <td>176</td>\n",
       "      <td>WT</td>\n",
       "    </tr>\n",
       "    <tr>\n",
       "      <th>4</th>\n",
       "      <td>5680956.0</td>\n",
       "      <td>2016.0</td>\n",
       "      <td>7.0</td>\n",
       "      <td>213.0</td>\n",
       "      <td>213.0</td>\n",
       "      <td>MIA</td>\n",
       "      <td>20659.0</td>\n",
       "      <td>1.0</td>\n",
       "      <td>FL</td>\n",
       "      <td>20728.0</td>\n",
       "      <td>...</td>\n",
       "      <td>None</td>\n",
       "      <td>M</td>\n",
       "      <td>1993.0</td>\n",
       "      <td>01232017</td>\n",
       "      <td>M</td>\n",
       "      <td>21180</td>\n",
       "      <td>QR</td>\n",
       "      <td>2.947457e+09</td>\n",
       "      <td>777</td>\n",
       "      <td>B2</td>\n",
       "    </tr>\n",
       "  </tbody>\n",
       "</table>\n",
       "<p>5 rows × 28 columns</p>\n",
       "</div>"
      ],
      "text/plain": [
       "       cicid   i94yr  i94mon  i94cit  i94res i94port  arrdate  i94mode  \\\n",
       "0  5680949.0  2016.0     7.0   117.0   117.0     NYC  20659.0      1.0   \n",
       "1  5680950.0  2016.0     7.0   245.0   245.0     DET  20659.0      1.0   \n",
       "2  5680953.0  2016.0     7.0   245.0   245.0     SEA  20659.0      1.0   \n",
       "3  5680954.0  2016.0     7.0   135.0   135.0     ORL  20659.0      1.0   \n",
       "4  5680956.0  2016.0     7.0   213.0   213.0     MIA  20659.0      1.0   \n",
       "\n",
       "  i94addr  depdate   ...     entdepu  matflag  biryear   dtaddto gender  \\\n",
       "0      NY      NaN   ...        None     None   1986.0       D/S      F   \n",
       "1      IL  20679.0   ...        None        M   1970.0  01232017      M   \n",
       "2      WA  20670.0   ...        None        M   1980.0  01232017      F   \n",
       "3      FL  20673.0   ...        None        M   1999.0  10212016      F   \n",
       "4      FL  20728.0   ...        None        M   1993.0  01232017      M   \n",
       "\n",
       "   insnum airline        admnum fltno visatype  \n",
       "0    None      IG  2.947450e+09  3940       F1  \n",
       "1   78652      DL  2.947451e+09   188       B2  \n",
       "2  130660      OZ  2.947455e+09   272       B2  \n",
       "3  294090      MT  2.947456e+09   176       WT  \n",
       "4   21180      QR  2.947457e+09   777       B2  \n",
       "\n",
       "[5 rows x 28 columns]"
      ]
     },
     "execution_count": 3,
     "metadata": {},
     "output_type": "execute_result"
    }
   ],
   "source": [
    "# Schema of Immigration dataset and overview\n",
    "print(f\"Immigration dataset records: {raw_immigration_df.count():,}\")\n",
    "raw_immigration_df.printSchema()\n",
    "raw_immigration_df.limit(5).toPandas()"
   ]
  },
  {
   "cell_type": "code",
   "execution_count": 4,
   "metadata": {
    "editable": true
   },
   "outputs": [
    {
     "name": "stdout",
     "output_type": "stream",
     "text": [
      "Temperatures data records: 8,599,212\n",
      "root\n",
      " |-- dt: string (nullable = true)\n",
      " |-- AverageTemperature: string (nullable = true)\n",
      " |-- AverageTemperatureUncertainty: string (nullable = true)\n",
      " |-- City: string (nullable = true)\n",
      " |-- Country: string (nullable = true)\n",
      " |-- Latitude: string (nullable = true)\n",
      " |-- Longitude: string (nullable = true)\n",
      "\n"
     ]
    },
    {
     "data": {
      "text/html": [
       "<div>\n",
       "<style scoped>\n",
       "    .dataframe tbody tr th:only-of-type {\n",
       "        vertical-align: middle;\n",
       "    }\n",
       "\n",
       "    .dataframe tbody tr th {\n",
       "        vertical-align: top;\n",
       "    }\n",
       "\n",
       "    .dataframe thead th {\n",
       "        text-align: right;\n",
       "    }\n",
       "</style>\n",
       "<table border=\"1\" class=\"dataframe\">\n",
       "  <thead>\n",
       "    <tr style=\"text-align: right;\">\n",
       "      <th></th>\n",
       "      <th>dt</th>\n",
       "      <th>AverageTemperature</th>\n",
       "      <th>AverageTemperatureUncertainty</th>\n",
       "      <th>City</th>\n",
       "      <th>Country</th>\n",
       "      <th>Latitude</th>\n",
       "      <th>Longitude</th>\n",
       "    </tr>\n",
       "  </thead>\n",
       "  <tbody>\n",
       "    <tr>\n",
       "      <th>0</th>\n",
       "      <td>1743-11-01</td>\n",
       "      <td>6.068</td>\n",
       "      <td>1.7369999999999999</td>\n",
       "      <td>Århus</td>\n",
       "      <td>Denmark</td>\n",
       "      <td>57.05N</td>\n",
       "      <td>10.33E</td>\n",
       "    </tr>\n",
       "    <tr>\n",
       "      <th>1</th>\n",
       "      <td>1743-12-01</td>\n",
       "      <td>None</td>\n",
       "      <td>None</td>\n",
       "      <td>Århus</td>\n",
       "      <td>Denmark</td>\n",
       "      <td>57.05N</td>\n",
       "      <td>10.33E</td>\n",
       "    </tr>\n",
       "    <tr>\n",
       "      <th>2</th>\n",
       "      <td>1744-01-01</td>\n",
       "      <td>None</td>\n",
       "      <td>None</td>\n",
       "      <td>Århus</td>\n",
       "      <td>Denmark</td>\n",
       "      <td>57.05N</td>\n",
       "      <td>10.33E</td>\n",
       "    </tr>\n",
       "    <tr>\n",
       "      <th>3</th>\n",
       "      <td>1744-02-01</td>\n",
       "      <td>None</td>\n",
       "      <td>None</td>\n",
       "      <td>Århus</td>\n",
       "      <td>Denmark</td>\n",
       "      <td>57.05N</td>\n",
       "      <td>10.33E</td>\n",
       "    </tr>\n",
       "    <tr>\n",
       "      <th>4</th>\n",
       "      <td>1744-03-01</td>\n",
       "      <td>None</td>\n",
       "      <td>None</td>\n",
       "      <td>Århus</td>\n",
       "      <td>Denmark</td>\n",
       "      <td>57.05N</td>\n",
       "      <td>10.33E</td>\n",
       "    </tr>\n",
       "  </tbody>\n",
       "</table>\n",
       "</div>"
      ],
      "text/plain": [
       "           dt AverageTemperature AverageTemperatureUncertainty   City  \\\n",
       "0  1743-11-01              6.068            1.7369999999999999  Århus   \n",
       "1  1743-12-01               None                          None  Århus   \n",
       "2  1744-01-01               None                          None  Århus   \n",
       "3  1744-02-01               None                          None  Århus   \n",
       "4  1744-03-01               None                          None  Århus   \n",
       "\n",
       "   Country Latitude Longitude  \n",
       "0  Denmark   57.05N    10.33E  \n",
       "1  Denmark   57.05N    10.33E  \n",
       "2  Denmark   57.05N    10.33E  \n",
       "3  Denmark   57.05N    10.33E  \n",
       "4  Denmark   57.05N    10.33E  "
      ]
     },
     "execution_count": 4,
     "metadata": {},
     "output_type": "execute_result"
    }
   ],
   "source": [
    "# Schema of Temperature dataset and overview\n",
    "print(f\"Temperatures data records: {raw_temp_df.count():,}\")\n",
    "raw_temp_df.printSchema()\n",
    "raw_temp_df.limit(5).toPandas()"
   ]
  },
  {
   "cell_type": "code",
   "execution_count": 5,
   "metadata": {
    "editable": true
   },
   "outputs": [
    {
     "name": "stdout",
     "output_type": "stream",
     "text": [
      "Demographic dataset records: 2,891\n",
      "root\n",
      " |-- City: string (nullable = true)\n",
      " |-- State: string (nullable = true)\n",
      " |-- Median Age: string (nullable = true)\n",
      " |-- Male Population: string (nullable = true)\n",
      " |-- Female Population: string (nullable = true)\n",
      " |-- Total Population: string (nullable = true)\n",
      " |-- Number of Veterans: string (nullable = true)\n",
      " |-- Foreign-born: string (nullable = true)\n",
      " |-- Average Household Size: string (nullable = true)\n",
      " |-- State Code: string (nullable = true)\n",
      " |-- Race: string (nullable = true)\n",
      " |-- Count: string (nullable = true)\n",
      "\n"
     ]
    },
    {
     "data": {
      "text/html": [
       "<div>\n",
       "<style scoped>\n",
       "    .dataframe tbody tr th:only-of-type {\n",
       "        vertical-align: middle;\n",
       "    }\n",
       "\n",
       "    .dataframe tbody tr th {\n",
       "        vertical-align: top;\n",
       "    }\n",
       "\n",
       "    .dataframe thead th {\n",
       "        text-align: right;\n",
       "    }\n",
       "</style>\n",
       "<table border=\"1\" class=\"dataframe\">\n",
       "  <thead>\n",
       "    <tr style=\"text-align: right;\">\n",
       "      <th></th>\n",
       "      <th>City</th>\n",
       "      <th>State</th>\n",
       "      <th>Median Age</th>\n",
       "      <th>Male Population</th>\n",
       "      <th>Female Population</th>\n",
       "      <th>Total Population</th>\n",
       "      <th>Number of Veterans</th>\n",
       "      <th>Foreign-born</th>\n",
       "      <th>Average Household Size</th>\n",
       "      <th>State Code</th>\n",
       "      <th>Race</th>\n",
       "      <th>Count</th>\n",
       "    </tr>\n",
       "  </thead>\n",
       "  <tbody>\n",
       "    <tr>\n",
       "      <th>0</th>\n",
       "      <td>Silver Spring</td>\n",
       "      <td>Maryland</td>\n",
       "      <td>33.8</td>\n",
       "      <td>40601</td>\n",
       "      <td>41862</td>\n",
       "      <td>82463</td>\n",
       "      <td>1562</td>\n",
       "      <td>30908</td>\n",
       "      <td>2.6</td>\n",
       "      <td>MD</td>\n",
       "      <td>Hispanic or Latino</td>\n",
       "      <td>25924</td>\n",
       "    </tr>\n",
       "    <tr>\n",
       "      <th>1</th>\n",
       "      <td>Quincy</td>\n",
       "      <td>Massachusetts</td>\n",
       "      <td>41.0</td>\n",
       "      <td>44129</td>\n",
       "      <td>49500</td>\n",
       "      <td>93629</td>\n",
       "      <td>4147</td>\n",
       "      <td>32935</td>\n",
       "      <td>2.39</td>\n",
       "      <td>MA</td>\n",
       "      <td>White</td>\n",
       "      <td>58723</td>\n",
       "    </tr>\n",
       "    <tr>\n",
       "      <th>2</th>\n",
       "      <td>Hoover</td>\n",
       "      <td>Alabama</td>\n",
       "      <td>38.5</td>\n",
       "      <td>38040</td>\n",
       "      <td>46799</td>\n",
       "      <td>84839</td>\n",
       "      <td>4819</td>\n",
       "      <td>8229</td>\n",
       "      <td>2.58</td>\n",
       "      <td>AL</td>\n",
       "      <td>Asian</td>\n",
       "      <td>4759</td>\n",
       "    </tr>\n",
       "    <tr>\n",
       "      <th>3</th>\n",
       "      <td>Rancho Cucamonga</td>\n",
       "      <td>California</td>\n",
       "      <td>34.5</td>\n",
       "      <td>88127</td>\n",
       "      <td>87105</td>\n",
       "      <td>175232</td>\n",
       "      <td>5821</td>\n",
       "      <td>33878</td>\n",
       "      <td>3.18</td>\n",
       "      <td>CA</td>\n",
       "      <td>Black or African-American</td>\n",
       "      <td>24437</td>\n",
       "    </tr>\n",
       "    <tr>\n",
       "      <th>4</th>\n",
       "      <td>Newark</td>\n",
       "      <td>New Jersey</td>\n",
       "      <td>34.6</td>\n",
       "      <td>138040</td>\n",
       "      <td>143873</td>\n",
       "      <td>281913</td>\n",
       "      <td>5829</td>\n",
       "      <td>86253</td>\n",
       "      <td>2.73</td>\n",
       "      <td>NJ</td>\n",
       "      <td>White</td>\n",
       "      <td>76402</td>\n",
       "    </tr>\n",
       "  </tbody>\n",
       "</table>\n",
       "</div>"
      ],
      "text/plain": [
       "               City          State Median Age Male Population  \\\n",
       "0     Silver Spring       Maryland       33.8           40601   \n",
       "1            Quincy  Massachusetts       41.0           44129   \n",
       "2            Hoover        Alabama       38.5           38040   \n",
       "3  Rancho Cucamonga     California       34.5           88127   \n",
       "4            Newark     New Jersey       34.6          138040   \n",
       "\n",
       "  Female Population Total Population Number of Veterans Foreign-born  \\\n",
       "0             41862            82463               1562        30908   \n",
       "1             49500            93629               4147        32935   \n",
       "2             46799            84839               4819         8229   \n",
       "3             87105           175232               5821        33878   \n",
       "4            143873           281913               5829        86253   \n",
       "\n",
       "  Average Household Size State Code                       Race  Count  \n",
       "0                    2.6         MD         Hispanic or Latino  25924  \n",
       "1                   2.39         MA                      White  58723  \n",
       "2                   2.58         AL                      Asian   4759  \n",
       "3                   3.18         CA  Black or African-American  24437  \n",
       "4                   2.73         NJ                      White  76402  "
      ]
     },
     "execution_count": 5,
     "metadata": {},
     "output_type": "execute_result"
    }
   ],
   "source": [
    "# Schema of Demographic dataset and overview \n",
    "print(f\"Demographic dataset records: {raw_demographic_df.count():,}\")\n",
    "raw_demographic_df.printSchema()\n",
    "raw_demographic_df.limit(5).toPandas()"
   ]
  },
  {
   "cell_type": "code",
   "execution_count": 6,
   "metadata": {
    "editable": true
   },
   "outputs": [
    {
     "name": "stdout",
     "output_type": "stream",
     "text": [
      "Aiport dataset records: 55,075\n",
      "root\n",
      " |-- ident: string (nullable = true)\n",
      " |-- type: string (nullable = true)\n",
      " |-- name: string (nullable = true)\n",
      " |-- elevation_ft: string (nullable = true)\n",
      " |-- continent: string (nullable = true)\n",
      " |-- iso_country: string (nullable = true)\n",
      " |-- iso_region: string (nullable = true)\n",
      " |-- municipality: string (nullable = true)\n",
      " |-- gps_code: string (nullable = true)\n",
      " |-- iata_code: string (nullable = true)\n",
      " |-- local_code: string (nullable = true)\n",
      " |-- coordinates: string (nullable = true)\n",
      "\n"
     ]
    },
    {
     "data": {
      "text/html": [
       "<div>\n",
       "<style scoped>\n",
       "    .dataframe tbody tr th:only-of-type {\n",
       "        vertical-align: middle;\n",
       "    }\n",
       "\n",
       "    .dataframe tbody tr th {\n",
       "        vertical-align: top;\n",
       "    }\n",
       "\n",
       "    .dataframe thead th {\n",
       "        text-align: right;\n",
       "    }\n",
       "</style>\n",
       "<table border=\"1\" class=\"dataframe\">\n",
       "  <thead>\n",
       "    <tr style=\"text-align: right;\">\n",
       "      <th></th>\n",
       "      <th>ident</th>\n",
       "      <th>type</th>\n",
       "      <th>name</th>\n",
       "      <th>elevation_ft</th>\n",
       "      <th>continent</th>\n",
       "      <th>iso_country</th>\n",
       "      <th>iso_region</th>\n",
       "      <th>municipality</th>\n",
       "      <th>gps_code</th>\n",
       "      <th>iata_code</th>\n",
       "      <th>local_code</th>\n",
       "      <th>coordinates</th>\n",
       "    </tr>\n",
       "  </thead>\n",
       "  <tbody>\n",
       "    <tr>\n",
       "      <th>0</th>\n",
       "      <td>00A</td>\n",
       "      <td>heliport</td>\n",
       "      <td>Total Rf Heliport</td>\n",
       "      <td>11</td>\n",
       "      <td>NA</td>\n",
       "      <td>US</td>\n",
       "      <td>US-PA</td>\n",
       "      <td>Bensalem</td>\n",
       "      <td>00A</td>\n",
       "      <td>None</td>\n",
       "      <td>00A</td>\n",
       "      <td>-74.93360137939453, 40.07080078125</td>\n",
       "    </tr>\n",
       "    <tr>\n",
       "      <th>1</th>\n",
       "      <td>00AA</td>\n",
       "      <td>small_airport</td>\n",
       "      <td>Aero B Ranch Airport</td>\n",
       "      <td>3435</td>\n",
       "      <td>NA</td>\n",
       "      <td>US</td>\n",
       "      <td>US-KS</td>\n",
       "      <td>Leoti</td>\n",
       "      <td>00AA</td>\n",
       "      <td>None</td>\n",
       "      <td>00AA</td>\n",
       "      <td>-101.473911, 38.704022</td>\n",
       "    </tr>\n",
       "    <tr>\n",
       "      <th>2</th>\n",
       "      <td>00AK</td>\n",
       "      <td>small_airport</td>\n",
       "      <td>Lowell Field</td>\n",
       "      <td>450</td>\n",
       "      <td>NA</td>\n",
       "      <td>US</td>\n",
       "      <td>US-AK</td>\n",
       "      <td>Anchor Point</td>\n",
       "      <td>00AK</td>\n",
       "      <td>None</td>\n",
       "      <td>00AK</td>\n",
       "      <td>-151.695999146, 59.94919968</td>\n",
       "    </tr>\n",
       "    <tr>\n",
       "      <th>3</th>\n",
       "      <td>00AL</td>\n",
       "      <td>small_airport</td>\n",
       "      <td>Epps Airpark</td>\n",
       "      <td>820</td>\n",
       "      <td>NA</td>\n",
       "      <td>US</td>\n",
       "      <td>US-AL</td>\n",
       "      <td>Harvest</td>\n",
       "      <td>00AL</td>\n",
       "      <td>None</td>\n",
       "      <td>00AL</td>\n",
       "      <td>-86.77030181884766, 34.86479949951172</td>\n",
       "    </tr>\n",
       "    <tr>\n",
       "      <th>4</th>\n",
       "      <td>00AR</td>\n",
       "      <td>closed</td>\n",
       "      <td>Newport Hospital &amp; Clinic Heliport</td>\n",
       "      <td>237</td>\n",
       "      <td>NA</td>\n",
       "      <td>US</td>\n",
       "      <td>US-AR</td>\n",
       "      <td>Newport</td>\n",
       "      <td>None</td>\n",
       "      <td>None</td>\n",
       "      <td>None</td>\n",
       "      <td>-91.254898, 35.6087</td>\n",
       "    </tr>\n",
       "  </tbody>\n",
       "</table>\n",
       "</div>"
      ],
      "text/plain": [
       "  ident           type                                name elevation_ft  \\\n",
       "0   00A       heliport                   Total Rf Heliport           11   \n",
       "1  00AA  small_airport                Aero B Ranch Airport         3435   \n",
       "2  00AK  small_airport                        Lowell Field          450   \n",
       "3  00AL  small_airport                        Epps Airpark          820   \n",
       "4  00AR         closed  Newport Hospital & Clinic Heliport          237   \n",
       "\n",
       "  continent iso_country iso_region  municipality gps_code iata_code  \\\n",
       "0        NA          US      US-PA      Bensalem      00A      None   \n",
       "1        NA          US      US-KS         Leoti     00AA      None   \n",
       "2        NA          US      US-AK  Anchor Point     00AK      None   \n",
       "3        NA          US      US-AL       Harvest     00AL      None   \n",
       "4        NA          US      US-AR       Newport     None      None   \n",
       "\n",
       "  local_code                            coordinates  \n",
       "0        00A     -74.93360137939453, 40.07080078125  \n",
       "1       00AA                 -101.473911, 38.704022  \n",
       "2       00AK            -151.695999146, 59.94919968  \n",
       "3       00AL  -86.77030181884766, 34.86479949951172  \n",
       "4       None                    -91.254898, 35.6087  "
      ]
     },
     "execution_count": 6,
     "metadata": {},
     "output_type": "execute_result"
    }
   ],
   "source": [
    "# Schema of Airport dataset and overview \n",
    "print(f\"Aiport dataset records: {raw_airport_df.count():,}\")\n",
    "raw_airport_df.printSchema()\n",
    "raw_airport_df.limit(5).toPandas()"
   ]
  },
  {
   "cell_type": "markdown",
   "metadata": {
    "editable": true
   },
   "source": [
    "### Step 2: Explore and Assess the Data\n",
    "#### Explore the Data \n",
    "Identify data quality issues, like missing values, duplicate data, etc.\n",
    "\n",
    "#### Cleaning Steps\n",
    "Document steps necessary to clean the data"
   ]
  },
  {
   "cell_type": "markdown",
   "metadata": {
    "editable": true
   },
   "source": [
    "##### Immigration Dataset\n",
    "- Use only data has arrived date and arrived by Air (i94mode = 1)\n",
    "- Rename column\n",
    "- Cast datatype to correct one\n",
    "- Replace code by imported UDF (country, city, state, visa)\n",
    "- Convert arrive/depart date \n",
    "- Drop rows with 'None' in state names"
   ]
  },
  {
   "cell_type": "code",
   "execution_count": 8,
   "metadata": {
    "editable": true
   },
   "outputs": [],
   "source": [
    "# Make a quick function to convert datetime data type\n",
    "global get_datetime\n",
    "get_datetime = F.udf(lambda x: (datetime.datetime(1960, 1, 1).date() + datetime.timedelta(x)).isoformat() if x else None)"
   ]
  },
  {
   "cell_type": "code",
   "execution_count": 9,
   "metadata": {
    "editable": true
   },
   "outputs": [],
   "source": [
    "# Cleaning Immigration data\n",
    "immigration_df = raw_immigration_df.filter(col(\"arrdate\").isNotNull() & (col(\"i94mode\") == 1) & (col('i94addr').isin(list(abbrev_state_list.keys()))) & (col('i94port').isin(list(city_codes.keys())))).select( \\\n",
    "    col(\"cicid\").cast(IntegerType()).alias(\"cicid\"), \\\n",
    "    col(\"i94yr\").cast(IntegerType()).alias(\"year\"), \\\n",
    "    col(\"i94mon\").cast(IntegerType()).alias(\"month\"), \\\n",
    "    col(\"i94res\").cast(IntegerType()).alias(\"departed_cd\"), \\\n",
    "    country_udf(col(\"i94res\").cast(IntegerType())).alias(\"departed_country\"), \\\n",
    "    col(\"i94port\").alias(\"arrived_cd\"), \\\n",
    "    city_code_udf(col(\"i94port\")).alias(\"arrived_port\"), \\\n",
    "    col(\"i94addr\").alias(\"state\"), \\\n",
    "    abbrev_state_udf(col(\"i94addr\")).alias(\"state_name\"), \\\n",
    "    get_datetime(col(\"arrdate\")).cast(TimestampType()).alias(\"arrived_date\"), \\\n",
    "    get_datetime(col(\"depdate\")).cast(TimestampType()).alias(\"departed_date\"), \\\n",
    "    visa_code_udf(col(\"i94visa\").cast(IntegerType())).alias(\"visa\")) \\\n",
    "    .filter(col(\"state_name\") != \"None\")"
   ]
  },
  {
   "cell_type": "code",
   "execution_count": 10,
   "metadata": {
    "editable": true
   },
   "outputs": [
    {
     "data": {
      "text/html": [
       "<div>\n",
       "<style scoped>\n",
       "    .dataframe tbody tr th:only-of-type {\n",
       "        vertical-align: middle;\n",
       "    }\n",
       "\n",
       "    .dataframe tbody tr th {\n",
       "        vertical-align: top;\n",
       "    }\n",
       "\n",
       "    .dataframe thead th {\n",
       "        text-align: right;\n",
       "    }\n",
       "</style>\n",
       "<table border=\"1\" class=\"dataframe\">\n",
       "  <thead>\n",
       "    <tr style=\"text-align: right;\">\n",
       "      <th></th>\n",
       "      <th>cicid</th>\n",
       "      <th>year</th>\n",
       "      <th>month</th>\n",
       "      <th>departed_cd</th>\n",
       "      <th>departed_country</th>\n",
       "      <th>arrived_cd</th>\n",
       "      <th>arrived_port</th>\n",
       "      <th>state</th>\n",
       "      <th>state_name</th>\n",
       "      <th>arrived_date</th>\n",
       "      <th>departed_date</th>\n",
       "      <th>visa</th>\n",
       "    </tr>\n",
       "  </thead>\n",
       "  <tbody>\n",
       "    <tr>\n",
       "      <th>0</th>\n",
       "      <td>5680949</td>\n",
       "      <td>2016</td>\n",
       "      <td>7</td>\n",
       "      <td>117</td>\n",
       "      <td>ITALY</td>\n",
       "      <td>NYC</td>\n",
       "      <td>NEW YORK</td>\n",
       "      <td>NY</td>\n",
       "      <td>New York</td>\n",
       "      <td>2016-07-24</td>\n",
       "      <td>None</td>\n",
       "      <td>Pleasure</td>\n",
       "    </tr>\n",
       "    <tr>\n",
       "      <th>1</th>\n",
       "      <td>5680950</td>\n",
       "      <td>2016</td>\n",
       "      <td>7</td>\n",
       "      <td>245</td>\n",
       "      <td>CHINA, PRC</td>\n",
       "      <td>DET</td>\n",
       "      <td>DETROIT</td>\n",
       "      <td>IL</td>\n",
       "      <td>Illinois</td>\n",
       "      <td>2016-07-24</td>\n",
       "      <td>2016-08-13</td>\n",
       "      <td>Pleasure</td>\n",
       "    </tr>\n",
       "    <tr>\n",
       "      <th>2</th>\n",
       "      <td>5680953</td>\n",
       "      <td>2016</td>\n",
       "      <td>7</td>\n",
       "      <td>245</td>\n",
       "      <td>CHINA, PRC</td>\n",
       "      <td>SEA</td>\n",
       "      <td>SEATTLE</td>\n",
       "      <td>WA</td>\n",
       "      <td>Washington</td>\n",
       "      <td>2016-07-24</td>\n",
       "      <td>2016-08-04</td>\n",
       "      <td>Pleasure</td>\n",
       "    </tr>\n",
       "    <tr>\n",
       "      <th>3</th>\n",
       "      <td>5680954</td>\n",
       "      <td>2016</td>\n",
       "      <td>7</td>\n",
       "      <td>135</td>\n",
       "      <td>UNITED KINGDOM</td>\n",
       "      <td>ORL</td>\n",
       "      <td>ORLANDO</td>\n",
       "      <td>FL</td>\n",
       "      <td>Florida</td>\n",
       "      <td>2016-07-24</td>\n",
       "      <td>2016-08-07</td>\n",
       "      <td>Pleasure</td>\n",
       "    </tr>\n",
       "    <tr>\n",
       "      <th>4</th>\n",
       "      <td>5680956</td>\n",
       "      <td>2016</td>\n",
       "      <td>7</td>\n",
       "      <td>213</td>\n",
       "      <td>INDIA</td>\n",
       "      <td>MIA</td>\n",
       "      <td>MIAMI</td>\n",
       "      <td>FL</td>\n",
       "      <td>Florida</td>\n",
       "      <td>2016-07-24</td>\n",
       "      <td>2016-10-01</td>\n",
       "      <td>Pleasure</td>\n",
       "    </tr>\n",
       "  </tbody>\n",
       "</table>\n",
       "</div>"
      ],
      "text/plain": [
       "     cicid  year  month  departed_cd departed_country arrived_cd  \\\n",
       "0  5680949  2016      7          117            ITALY        NYC   \n",
       "1  5680950  2016      7          245       CHINA, PRC        DET   \n",
       "2  5680953  2016      7          245       CHINA, PRC        SEA   \n",
       "3  5680954  2016      7          135   UNITED KINGDOM        ORL   \n",
       "4  5680956  2016      7          213            INDIA        MIA   \n",
       "\n",
       "         arrived_port state  state_name arrived_date departed_date      visa  \n",
       "0  NEW YORK              NY    New York   2016-07-24          None  Pleasure  \n",
       "1  DETROIT               IL    Illinois   2016-07-24    2016-08-13  Pleasure  \n",
       "2  SEATTLE               WA  Washington   2016-07-24    2016-08-04  Pleasure  \n",
       "3  ORLANDO               FL     Florida   2016-07-24    2016-08-07  Pleasure  \n",
       "4  MIAMI                 FL     Florida   2016-07-24    2016-10-01  Pleasure  "
      ]
     },
     "execution_count": 10,
     "metadata": {},
     "output_type": "execute_result"
    }
   ],
   "source": [
    "immigration_df.limit(5).toPandas()"
   ]
  },
  {
   "cell_type": "code",
   "execution_count": 11,
   "metadata": {
    "editable": true
   },
   "outputs": [
    {
     "name": "stdout",
     "output_type": "stream",
     "text": [
      "root\n",
      " |-- cicid: integer (nullable = true)\n",
      " |-- year: integer (nullable = true)\n",
      " |-- month: integer (nullable = true)\n",
      " |-- departed_cd: integer (nullable = true)\n",
      " |-- departed_country: string (nullable = true)\n",
      " |-- arrived_cd: string (nullable = true)\n",
      " |-- arrived_port: string (nullable = true)\n",
      " |-- state: string (nullable = true)\n",
      " |-- state_name: string (nullable = true)\n",
      " |-- arrived_date: string (nullable = true)\n",
      " |-- departed_date: string (nullable = true)\n",
      " |-- visa: string (nullable = true)\n",
      "\n"
     ]
    }
   ],
   "source": [
    "immigration_df.printSchema()"
   ]
  },
  {
   "cell_type": "markdown",
   "metadata": {
    "editable": true
   },
   "source": [
    "##### Temperatures Dataset\n",
    "- Filter the temperature data after 2003.\n",
    "- Onl choose United States temperature data.\n",
    "- Rename columns into intuitive names.\n",
    "- Change data type into correct ones.\n",
    "- Change nagative value of longtitude.\n",
    "- Remove duplicated rows of date and city."
   ]
  },
  {
   "cell_type": "code",
   "execution_count": 12,
   "metadata": {
    "editable": true
   },
   "outputs": [],
   "source": [
    "# Cleaning Temperatures data\n",
    "temp_df = raw_temp_df.where((col(\"Country\") == \"United States\") & (col(\"dt\") >= \"2003-01-01\")).select( \\\n",
    "    col(\"dt\").cast(TimestampType()).alias(\"date\"), \\\n",
    "    col(\"AverageTemperature\").cast(FloatType()).alias(\"avg_temp\"), \\\n",
    "    col(\"City\").alias(\"city\"), \\\n",
    "    col(\"Country\").alias(\"country\"), \\\n",
    "    split(col(\"Latitude\"), \"N\").getItem(0).cast(FloatType()).alias(\"latitude\"), \\\n",
    "    split(col(\"Longitude\"), \"W\").getItem(0).cast(FloatType()).alias(\"longitude\")) \\\n",
    "    .withColumn(\"longitude\",col(\"longitude\") * -1) \\\n",
    "    .dropDuplicates([\"date\",\"city\"])"
   ]
  },
  {
   "cell_type": "code",
   "execution_count": 13,
   "metadata": {
    "editable": true
   },
   "outputs": [
    {
     "data": {
      "text/html": [
       "<div>\n",
       "<style scoped>\n",
       "    .dataframe tbody tr th:only-of-type {\n",
       "        vertical-align: middle;\n",
       "    }\n",
       "\n",
       "    .dataframe tbody tr th {\n",
       "        vertical-align: top;\n",
       "    }\n",
       "\n",
       "    .dataframe thead th {\n",
       "        text-align: right;\n",
       "    }\n",
       "</style>\n",
       "<table border=\"1\" class=\"dataframe\">\n",
       "  <thead>\n",
       "    <tr style=\"text-align: right;\">\n",
       "      <th></th>\n",
       "      <th>date</th>\n",
       "      <th>avg_temp</th>\n",
       "      <th>city</th>\n",
       "      <th>country</th>\n",
       "      <th>latitude</th>\n",
       "      <th>longitude</th>\n",
       "    </tr>\n",
       "  </thead>\n",
       "  <tbody>\n",
       "    <tr>\n",
       "      <th>0</th>\n",
       "      <td>2003-01-01</td>\n",
       "      <td>15.878</td>\n",
       "      <td>Brownsville</td>\n",
       "      <td>United States</td>\n",
       "      <td>26.520000</td>\n",
       "      <td>-96.720001</td>\n",
       "    </tr>\n",
       "    <tr>\n",
       "      <th>1</th>\n",
       "      <td>2003-01-01</td>\n",
       "      <td>-4.726</td>\n",
       "      <td>Indianapolis</td>\n",
       "      <td>United States</td>\n",
       "      <td>39.380001</td>\n",
       "      <td>-85.320000</td>\n",
       "    </tr>\n",
       "    <tr>\n",
       "      <th>2</th>\n",
       "      <td>2003-01-01</td>\n",
       "      <td>11.474</td>\n",
       "      <td>Richmond</td>\n",
       "      <td>United States</td>\n",
       "      <td>37.779999</td>\n",
       "      <td>-122.029999</td>\n",
       "    </tr>\n",
       "    <tr>\n",
       "      <th>3</th>\n",
       "      <td>2003-01-01</td>\n",
       "      <td>4.333</td>\n",
       "      <td>Tacoma</td>\n",
       "      <td>United States</td>\n",
       "      <td>47.419998</td>\n",
       "      <td>-121.970001</td>\n",
       "    </tr>\n",
       "    <tr>\n",
       "      <th>4</th>\n",
       "      <td>2003-03-01</td>\n",
       "      <td>13.193</td>\n",
       "      <td>Ontario</td>\n",
       "      <td>United States</td>\n",
       "      <td>34.560001</td>\n",
       "      <td>-116.760002</td>\n",
       "    </tr>\n",
       "  </tbody>\n",
       "</table>\n",
       "</div>"
      ],
      "text/plain": [
       "        date  avg_temp          city        country   latitude   longitude\n",
       "0 2003-01-01    15.878   Brownsville  United States  26.520000  -96.720001\n",
       "1 2003-01-01    -4.726  Indianapolis  United States  39.380001  -85.320000\n",
       "2 2003-01-01    11.474      Richmond  United States  37.779999 -122.029999\n",
       "3 2003-01-01     4.333        Tacoma  United States  47.419998 -121.970001\n",
       "4 2003-03-01    13.193       Ontario  United States  34.560001 -116.760002"
      ]
     },
     "execution_count": 13,
     "metadata": {},
     "output_type": "execute_result"
    }
   ],
   "source": [
    "temp_df.limit(5).toPandas()"
   ]
  },
  {
   "cell_type": "code",
   "execution_count": 14,
   "metadata": {
    "editable": true
   },
   "outputs": [
    {
     "name": "stdout",
     "output_type": "stream",
     "text": [
      "root\n",
      " |-- date: timestamp (nullable = true)\n",
      " |-- avg_temp: float (nullable = true)\n",
      " |-- city: string (nullable = true)\n",
      " |-- country: string (nullable = true)\n",
      " |-- latitude: float (nullable = true)\n",
      " |-- longitude: float (nullable = true)\n",
      "\n"
     ]
    }
   ],
   "source": [
    "temp_df.printSchema()"
   ]
  },
  {
   "cell_type": "markdown",
   "metadata": {
    "editable": true
   },
   "source": [
    "##### Demographic Dataset\n",
    "- Change column names.\n",
    "- Drop duplicated rows in state_cd & city.\n",
    "- Change data type into correct ones."
   ]
  },
  {
   "cell_type": "code",
   "execution_count": 15,
   "metadata": {
    "editable": true
   },
   "outputs": [],
   "source": [
    "# Cleaning Demographics data\n",
    "demographic_df = raw_demographic_df.select( \\\n",
    "    col(\"State Code\").alias(\"state_cd\"), \\\n",
    "    col(\"State\").alias(\"state_name\"), \\\n",
    "    col(\"City\").alias(\"city\"), \\\n",
    "    col(\"Median Age\").cast(FloatType()).alias(\"median_age\"), \\\n",
    "    col(\"Male Population\").cast(IntegerType()).alias(\"male_population\"), \\\n",
    "    col(\"Female Population\").cast(IntegerType()).alias(\"female_population\"), \\\n",
    "    col(\"Total Population\").cast(IntegerType()).alias(\"total_population\"), \\\n",
    "    col(\"Number of Veterans\").cast(IntegerType()).alias(\"veterans\"), \\\n",
    "    col(\"Foreign-born\").cast(IntegerType()).alias(\"foreign_born\"), \\\n",
    "    col(\"Average Household Size\").cast(FloatType()).alias(\"avg_household_size\"), \\\n",
    "    col(\"Race\").alias(\"race\")) \\\n",
    "    .dropDuplicates([\"state_cd\",\"city\"])"
   ]
  },
  {
   "cell_type": "code",
   "execution_count": 16,
   "metadata": {
    "editable": true
   },
   "outputs": [
    {
     "data": {
      "text/html": [
       "<div>\n",
       "<style scoped>\n",
       "    .dataframe tbody tr th:only-of-type {\n",
       "        vertical-align: middle;\n",
       "    }\n",
       "\n",
       "    .dataframe tbody tr th {\n",
       "        vertical-align: top;\n",
       "    }\n",
       "\n",
       "    .dataframe thead th {\n",
       "        text-align: right;\n",
       "    }\n",
       "</style>\n",
       "<table border=\"1\" class=\"dataframe\">\n",
       "  <thead>\n",
       "    <tr style=\"text-align: right;\">\n",
       "      <th></th>\n",
       "      <th>state_cd</th>\n",
       "      <th>state_name</th>\n",
       "      <th>city</th>\n",
       "      <th>median_age</th>\n",
       "      <th>male_population</th>\n",
       "      <th>female_population</th>\n",
       "      <th>total_population</th>\n",
       "      <th>veterans</th>\n",
       "      <th>foreign_born</th>\n",
       "      <th>avg_household_size</th>\n",
       "      <th>race</th>\n",
       "    </tr>\n",
       "  </thead>\n",
       "  <tbody>\n",
       "    <tr>\n",
       "      <th>0</th>\n",
       "      <td>IA</td>\n",
       "      <td>Iowa</td>\n",
       "      <td>Ames</td>\n",
       "      <td>23.000000</td>\n",
       "      <td>33814</td>\n",
       "      <td>31238</td>\n",
       "      <td>65052</td>\n",
       "      <td>2265</td>\n",
       "      <td>8606</td>\n",
       "      <td>2.16</td>\n",
       "      <td>White</td>\n",
       "    </tr>\n",
       "    <tr>\n",
       "      <th>1</th>\n",
       "      <td>IN</td>\n",
       "      <td>Indiana</td>\n",
       "      <td>Indianapolis</td>\n",
       "      <td>34.099998</td>\n",
       "      <td>410615</td>\n",
       "      <td>437808</td>\n",
       "      <td>848423</td>\n",
       "      <td>42186</td>\n",
       "      <td>72456</td>\n",
       "      <td>2.53</td>\n",
       "      <td>American Indian and Alaska Native</td>\n",
       "    </tr>\n",
       "    <tr>\n",
       "      <th>2</th>\n",
       "      <td>LA</td>\n",
       "      <td>Louisiana</td>\n",
       "      <td>Shreveport</td>\n",
       "      <td>35.200001</td>\n",
       "      <td>93138</td>\n",
       "      <td>103856</td>\n",
       "      <td>196994</td>\n",
       "      <td>14287</td>\n",
       "      <td>5658</td>\n",
       "      <td>2.53</td>\n",
       "      <td>Asian</td>\n",
       "    </tr>\n",
       "    <tr>\n",
       "      <th>3</th>\n",
       "      <td>MO</td>\n",
       "      <td>Missouri</td>\n",
       "      <td>Kansas City</td>\n",
       "      <td>35.900002</td>\n",
       "      <td>228430</td>\n",
       "      <td>246931</td>\n",
       "      <td>475361</td>\n",
       "      <td>24710</td>\n",
       "      <td>37787</td>\n",
       "      <td>2.35</td>\n",
       "      <td>Hispanic or Latino</td>\n",
       "    </tr>\n",
       "    <tr>\n",
       "      <th>4</th>\n",
       "      <td>NC</td>\n",
       "      <td>North Carolina</td>\n",
       "      <td>Fayetteville</td>\n",
       "      <td>30.700001</td>\n",
       "      <td>101051</td>\n",
       "      <td>100914</td>\n",
       "      <td>201965</td>\n",
       "      <td>28089</td>\n",
       "      <td>12863</td>\n",
       "      <td>2.50</td>\n",
       "      <td>Black or African-American</td>\n",
       "    </tr>\n",
       "  </tbody>\n",
       "</table>\n",
       "</div>"
      ],
      "text/plain": [
       "  state_cd      state_name          city  median_age  male_population  \\\n",
       "0       IA            Iowa          Ames   23.000000            33814   \n",
       "1       IN         Indiana  Indianapolis   34.099998           410615   \n",
       "2       LA       Louisiana    Shreveport   35.200001            93138   \n",
       "3       MO        Missouri   Kansas City   35.900002           228430   \n",
       "4       NC  North Carolina  Fayetteville   30.700001           101051   \n",
       "\n",
       "   female_population  total_population  veterans  foreign_born  \\\n",
       "0              31238             65052      2265          8606   \n",
       "1             437808            848423     42186         72456   \n",
       "2             103856            196994     14287          5658   \n",
       "3             246931            475361     24710         37787   \n",
       "4             100914            201965     28089         12863   \n",
       "\n",
       "   avg_household_size                               race  \n",
       "0                2.16                              White  \n",
       "1                2.53  American Indian and Alaska Native  \n",
       "2                2.53                              Asian  \n",
       "3                2.35                 Hispanic or Latino  \n",
       "4                2.50          Black or African-American  "
      ]
     },
     "execution_count": 16,
     "metadata": {},
     "output_type": "execute_result"
    }
   ],
   "source": [
    "demographic_df.limit(5).toPandas()"
   ]
  },
  {
   "cell_type": "code",
   "execution_count": 17,
   "metadata": {
    "editable": true
   },
   "outputs": [
    {
     "name": "stdout",
     "output_type": "stream",
     "text": [
      "root\n",
      " |-- state_cd: string (nullable = true)\n",
      " |-- state_name: string (nullable = true)\n",
      " |-- city: string (nullable = true)\n",
      " |-- median_age: float (nullable = true)\n",
      " |-- male_population: integer (nullable = true)\n",
      " |-- female_population: integer (nullable = true)\n",
      " |-- total_population: integer (nullable = true)\n",
      " |-- veterans: integer (nullable = true)\n",
      " |-- foreign_born: integer (nullable = true)\n",
      " |-- avg_household_size: float (nullable = true)\n",
      " |-- race: string (nullable = true)\n",
      "\n"
     ]
    }
   ],
   "source": [
    "demographic_df.printSchema()"
   ]
  },
  {
   "cell_type": "markdown",
   "metadata": {
    "editable": true
   },
   "source": [
    "##### Airport Dataset\n",
    "- Only choose of United States.\n",
    "- Choose only airport type.\n",
    "- Seperate Latitude and Longitude.\n",
    "- Select only neccesary columns.\n",
    "- Change column name into intuitive ones."
   ]
  },
  {
   "cell_type": "code",
   "execution_count": 18,
   "metadata": {
    "editable": true
   },
   "outputs": [],
   "source": [
    "# Cleaning Airports data\n",
    "airport_df=raw_airport_df \\\n",
    "    .where((col(\"iso_country\") == \"US\") & (col(\"type\").like(\"%airport\"))) \\\n",
    "    .withColumn(\"latitude\", split(col(\"coordinates\"),\",\").getItem(1).cast(FloatType())) \\\n",
    "    .withColumn(\"longitude\", split(col(\"coordinates\"),\",\").getItem(0).cast(FloatType())) \\\n",
    "    .select(col(\"ident\").alias(\"id\"),\"name\",\"type\",col(\"elevation_ft\").cast(IntegerType()).alias(\"elevation\"),split(col(\"iso_region\"),\"-\").getItem(1).alias(\"state\"),\"latitude\",\"longitude\")"
   ]
  },
  {
   "cell_type": "code",
   "execution_count": 19,
   "metadata": {
    "editable": true
   },
   "outputs": [
    {
     "data": {
      "text/html": [
       "<div>\n",
       "<style scoped>\n",
       "    .dataframe tbody tr th:only-of-type {\n",
       "        vertical-align: middle;\n",
       "    }\n",
       "\n",
       "    .dataframe tbody tr th {\n",
       "        vertical-align: top;\n",
       "    }\n",
       "\n",
       "    .dataframe thead th {\n",
       "        text-align: right;\n",
       "    }\n",
       "</style>\n",
       "<table border=\"1\" class=\"dataframe\">\n",
       "  <thead>\n",
       "    <tr style=\"text-align: right;\">\n",
       "      <th></th>\n",
       "      <th>id</th>\n",
       "      <th>name</th>\n",
       "      <th>type</th>\n",
       "      <th>elevation</th>\n",
       "      <th>state</th>\n",
       "      <th>latitude</th>\n",
       "      <th>longitude</th>\n",
       "    </tr>\n",
       "  </thead>\n",
       "  <tbody>\n",
       "    <tr>\n",
       "      <th>0</th>\n",
       "      <td>00AA</td>\n",
       "      <td>Aero B Ranch Airport</td>\n",
       "      <td>small_airport</td>\n",
       "      <td>3435</td>\n",
       "      <td>KS</td>\n",
       "      <td>38.704021</td>\n",
       "      <td>-101.473907</td>\n",
       "    </tr>\n",
       "    <tr>\n",
       "      <th>1</th>\n",
       "      <td>00AK</td>\n",
       "      <td>Lowell Field</td>\n",
       "      <td>small_airport</td>\n",
       "      <td>450</td>\n",
       "      <td>AK</td>\n",
       "      <td>59.949200</td>\n",
       "      <td>-151.695999</td>\n",
       "    </tr>\n",
       "    <tr>\n",
       "      <th>2</th>\n",
       "      <td>00AL</td>\n",
       "      <td>Epps Airpark</td>\n",
       "      <td>small_airport</td>\n",
       "      <td>820</td>\n",
       "      <td>AL</td>\n",
       "      <td>34.864799</td>\n",
       "      <td>-86.770302</td>\n",
       "    </tr>\n",
       "    <tr>\n",
       "      <th>3</th>\n",
       "      <td>00AS</td>\n",
       "      <td>Fulton Airport</td>\n",
       "      <td>small_airport</td>\n",
       "      <td>1100</td>\n",
       "      <td>OK</td>\n",
       "      <td>34.942802</td>\n",
       "      <td>-97.818016</td>\n",
       "    </tr>\n",
       "    <tr>\n",
       "      <th>4</th>\n",
       "      <td>00AZ</td>\n",
       "      <td>Cordes Airport</td>\n",
       "      <td>small_airport</td>\n",
       "      <td>3810</td>\n",
       "      <td>AZ</td>\n",
       "      <td>34.305599</td>\n",
       "      <td>-112.165001</td>\n",
       "    </tr>\n",
       "  </tbody>\n",
       "</table>\n",
       "</div>"
      ],
      "text/plain": [
       "     id                  name           type  elevation state   latitude  \\\n",
       "0  00AA  Aero B Ranch Airport  small_airport       3435    KS  38.704021   \n",
       "1  00AK          Lowell Field  small_airport        450    AK  59.949200   \n",
       "2  00AL          Epps Airpark  small_airport        820    AL  34.864799   \n",
       "3  00AS        Fulton Airport  small_airport       1100    OK  34.942802   \n",
       "4  00AZ        Cordes Airport  small_airport       3810    AZ  34.305599   \n",
       "\n",
       "    longitude  \n",
       "0 -101.473907  \n",
       "1 -151.695999  \n",
       "2  -86.770302  \n",
       "3  -97.818016  \n",
       "4 -112.165001  "
      ]
     },
     "execution_count": 19,
     "metadata": {},
     "output_type": "execute_result"
    }
   ],
   "source": [
    "airport_df.limit(5).toPandas()"
   ]
  },
  {
   "cell_type": "code",
   "execution_count": 20,
   "metadata": {
    "editable": true
   },
   "outputs": [
    {
     "name": "stdout",
     "output_type": "stream",
     "text": [
      "root\n",
      " |-- id: string (nullable = true)\n",
      " |-- name: string (nullable = true)\n",
      " |-- type: string (nullable = true)\n",
      " |-- elevation: integer (nullable = true)\n",
      " |-- state: string (nullable = true)\n",
      " |-- latitude: float (nullable = true)\n",
      " |-- longitude: float (nullable = true)\n",
      "\n"
     ]
    }
   ],
   "source": [
    "airport_df.printSchema()"
   ]
  },
  {
   "cell_type": "markdown",
   "metadata": {
    "editable": true
   },
   "source": [
    "### Step 3: Define the Data Model\n",
    "#### 3.1 Conceptual Data Model\n",
    "Map out the conceptual data model and explain why you chose that model\n"
   ]
  },
  {
   "cell_type": "code",
   "execution_count": 22,
   "metadata": {
    "editable": true
   },
   "outputs": [
    {
     "data": {
      "image/png": "[encoded data removed]",
      "text/plain": [
       "<IPython.core.display.Image object>"
      ]
     },
     "execution_count": 22,
     "metadata": {},
     "output_type": "execute_result"
    }
   ],
   "source": [
    "from IPython.display import Image\n",
    "Image(filename='Conceptual Data Model.png')"
   ]
  },
  {
   "cell_type": "markdown",
   "metadata": {
    "editable": true
   },
   "source": [
    "\n",
    "#### 3.2 Mapping Out Data Pipelines\n",
    "List the steps necessary to pipeline the data into the chosen data model\n",
    "\n",
    "##### Extract Temperatures Dataset as Dimension\n",
    "- Execute a join with Demographics dataset and quantify the temperature by date and State\n",
    "- Making a calculation average temperture of one day for 2016 by extracting the historical data of 2003 onwards.\n",
    "  - Example: 01-01-2016 temperature will be calculated from 01-01-2003, 01-01-2004, etc.,..\n",
    "  \n",
    "##### Extract Demographics Dataset as Dimension\n",
    "- Calculate data by State and Race\n",
    "\n",
    "##### Extract Airports Dataset as Dimension\n",
    "- Using 'abbrev_state_udf' UDF to acquire State names\n",
    "\n",
    "##### Extract Immigration Dataset as Fact\n",
    "- Execute a join with Dim_Temperature data to acquire the temperature of arrival ports in arrived month based on State."
   ]
  },
  {
   "cell_type": "markdown",
   "metadata": {
    "editable": true
   },
   "source": [
    "### Step 4: Run Pipelines to Model the Data \n",
    "#### 4.1 Create the data model\n",
    "Build the data pipelines to create the data model."
   ]
  },
  {
   "cell_type": "code",
   "execution_count": 23,
   "metadata": {
    "editable": true
   },
   "outputs": [],
   "source": [
    "# Making dimesion Temperatures Dataset\n",
    "dim_temperature_df = temp_df \\\n",
    "    .withColumn(\"month\", month(\"date\")) \\\n",
    "    .withColumn(\"day\",dayofmonth(\"date\")) \\\n",
    "    .join(demographic_df, \"city\") \\\n",
    "    .groupby([\"month\",\"day\",\"state_cd\",\"state_name\"]) \\\n",
    "    .agg(round(avg(\"avg_temp\"),2).alias(\"avg_temp\")) \\\n",
    "    .select(concat_ws(\"-\",lit(\"2016\"),lpad(\"month\",2,\"0\"),lpad(\"day\",2,\"0\")).cast(TimestampType()).alias(\"date\"),col(\"state_cd\").alias(\"state\"),\"state_name\",\"avg_temp\")"
   ]
  },
  {
   "cell_type": "code",
   "execution_count": 24,
   "metadata": {
    "editable": true
   },
   "outputs": [
    {
     "data": {
      "text/html": [
       "<div>\n",
       "<style scoped>\n",
       "    .dataframe tbody tr th:only-of-type {\n",
       "        vertical-align: middle;\n",
       "    }\n",
       "\n",
       "    .dataframe tbody tr th {\n",
       "        vertical-align: top;\n",
       "    }\n",
       "\n",
       "    .dataframe thead th {\n",
       "        text-align: right;\n",
       "    }\n",
       "</style>\n",
       "<table border=\"1\" class=\"dataframe\">\n",
       "  <thead>\n",
       "    <tr style=\"text-align: right;\">\n",
       "      <th></th>\n",
       "      <th>date</th>\n",
       "      <th>state</th>\n",
       "      <th>state_name</th>\n",
       "      <th>avg_temp</th>\n",
       "    </tr>\n",
       "  </thead>\n",
       "  <tbody>\n",
       "    <tr>\n",
       "      <th>0</th>\n",
       "      <td>2016-09-01</td>\n",
       "      <td>FL</td>\n",
       "      <td>Florida</td>\n",
       "      <td>27.57</td>\n",
       "    </tr>\n",
       "    <tr>\n",
       "      <th>1</th>\n",
       "      <td>2016-07-01</td>\n",
       "      <td>DC</td>\n",
       "      <td>District of Columbia</td>\n",
       "      <td>25.35</td>\n",
       "    </tr>\n",
       "    <tr>\n",
       "      <th>2</th>\n",
       "      <td>2016-11-01</td>\n",
       "      <td>NJ</td>\n",
       "      <td>New Jersey</td>\n",
       "      <td>7.08</td>\n",
       "    </tr>\n",
       "    <tr>\n",
       "      <th>3</th>\n",
       "      <td>2016-06-01</td>\n",
       "      <td>WI</td>\n",
       "      <td>Wisconsin</td>\n",
       "      <td>18.89</td>\n",
       "    </tr>\n",
       "    <tr>\n",
       "      <th>4</th>\n",
       "      <td>2016-07-01</td>\n",
       "      <td>OH</td>\n",
       "      <td>Ohio</td>\n",
       "      <td>24.21</td>\n",
       "    </tr>\n",
       "  </tbody>\n",
       "</table>\n",
       "</div>"
      ],
      "text/plain": [
       "        date state            state_name  avg_temp\n",
       "0 2016-09-01    FL               Florida     27.57\n",
       "1 2016-07-01    DC  District of Columbia     25.35\n",
       "2 2016-11-01    NJ            New Jersey      7.08\n",
       "3 2016-06-01    WI             Wisconsin     18.89\n",
       "4 2016-07-01    OH                  Ohio     24.21"
      ]
     },
     "execution_count": 24,
     "metadata": {},
     "output_type": "execute_result"
    }
   ],
   "source": [
    "dim_temperature_df.limit(5).toPandas()"
   ]
  },
  {
   "cell_type": "code",
   "execution_count": 25,
   "metadata": {
    "editable": true
   },
   "outputs": [
    {
     "name": "stdout",
     "output_type": "stream",
     "text": [
      "root\n",
      " |-- date: timestamp (nullable = true)\n",
      " |-- state: string (nullable = true)\n",
      " |-- state_name: string (nullable = true)\n",
      " |-- avg_temp: double (nullable = true)\n",
      "\n"
     ]
    }
   ],
   "source": [
    "dim_temperature_df.printSchema()"
   ]
  },
  {
   "cell_type": "code",
   "execution_count": 26,
   "metadata": {
    "editable": true
   },
   "outputs": [],
   "source": [
    "# Making dimesion Demographics Dataset\n",
    "dim_demographic_df = demographic_df.groupby([\"state_cd\",\"state_name\",\"race\"]).agg( \\\n",
    "        round(avg(\"median_age\"),2).alias(\"median_age\"), \\\n",
    "        sum(\"male_population\").alias(\"male_population\"), \\\n",
    "        sum(\"female_population\").alias(\"female_population\"), \\\n",
    "        sum(\"total_population\").alias(\"total_population\"), \\\n",
    "        sum(\"veterans\").alias(\"veterans\"), \\\n",
    "        sum(\"foreign_born\").alias(\"foreign_born\"), \\\n",
    "        round(avg(\"avg_household_size\"),2).alias(\"avg_household_size\")) \\\n",
    "    .withColumnRenamed(\"state_cd\",\"state\")"
   ]
  },
  {
   "cell_type": "code",
   "execution_count": 27,
   "metadata": {
    "editable": true
   },
   "outputs": [
    {
     "data": {
      "text/html": [
       "<div>\n",
       "<style scoped>\n",
       "    .dataframe tbody tr th:only-of-type {\n",
       "        vertical-align: middle;\n",
       "    }\n",
       "\n",
       "    .dataframe tbody tr th {\n",
       "        vertical-align: top;\n",
       "    }\n",
       "\n",
       "    .dataframe thead th {\n",
       "        text-align: right;\n",
       "    }\n",
       "</style>\n",
       "<table border=\"1\" class=\"dataframe\">\n",
       "  <thead>\n",
       "    <tr style=\"text-align: right;\">\n",
       "      <th></th>\n",
       "      <th>state</th>\n",
       "      <th>state_name</th>\n",
       "      <th>race</th>\n",
       "      <th>median_age</th>\n",
       "      <th>male_population</th>\n",
       "      <th>female_population</th>\n",
       "      <th>total_population</th>\n",
       "      <th>veterans</th>\n",
       "      <th>foreign_born</th>\n",
       "      <th>avg_household_size</th>\n",
       "    </tr>\n",
       "  </thead>\n",
       "  <tbody>\n",
       "    <tr>\n",
       "      <th>0</th>\n",
       "      <td>FL</td>\n",
       "      <td>Florida</td>\n",
       "      <td>Black or African-American</td>\n",
       "      <td>36.90</td>\n",
       "      <td>474878</td>\n",
       "      <td>518088</td>\n",
       "      <td>992966</td>\n",
       "      <td>45267.0</td>\n",
       "      <td>286690.0</td>\n",
       "      <td>3.24</td>\n",
       "    </tr>\n",
       "    <tr>\n",
       "      <th>1</th>\n",
       "      <td>IL</td>\n",
       "      <td>Illinois</td>\n",
       "      <td>White</td>\n",
       "      <td>34.13</td>\n",
       "      <td>113443</td>\n",
       "      <td>123977</td>\n",
       "      <td>237420</td>\n",
       "      <td>7811.0</td>\n",
       "      <td>51878.0</td>\n",
       "      <td>2.42</td>\n",
       "    </tr>\n",
       "    <tr>\n",
       "      <th>2</th>\n",
       "      <td>MN</td>\n",
       "      <td>Minnesota</td>\n",
       "      <td>White</td>\n",
       "      <td>36.85</td>\n",
       "      <td>69625</td>\n",
       "      <td>77906</td>\n",
       "      <td>147531</td>\n",
       "      <td>6449.0</td>\n",
       "      <td>25135.0</td>\n",
       "      <td>2.75</td>\n",
       "    </tr>\n",
       "    <tr>\n",
       "      <th>3</th>\n",
       "      <td>OR</td>\n",
       "      <td>Oregon</td>\n",
       "      <td>American Indian and Alaska Native</td>\n",
       "      <td>36.00</td>\n",
       "      <td>364442</td>\n",
       "      <td>370105</td>\n",
       "      <td>734547</td>\n",
       "      <td>36565.0</td>\n",
       "      <td>105572.0</td>\n",
       "      <td>2.56</td>\n",
       "    </tr>\n",
       "    <tr>\n",
       "      <th>4</th>\n",
       "      <td>PR</td>\n",
       "      <td>Puerto Rico</td>\n",
       "      <td>Asian</td>\n",
       "      <td>38.10</td>\n",
       "      <td>30799</td>\n",
       "      <td>35782</td>\n",
       "      <td>66581</td>\n",
       "      <td>NaN</td>\n",
       "      <td>NaN</td>\n",
       "      <td>NaN</td>\n",
       "    </tr>\n",
       "  </tbody>\n",
       "</table>\n",
       "</div>"
      ],
      "text/plain": [
       "  state   state_name                               race  median_age  \\\n",
       "0    FL      Florida          Black or African-American       36.90   \n",
       "1    IL     Illinois                              White       34.13   \n",
       "2    MN    Minnesota                              White       36.85   \n",
       "3    OR       Oregon  American Indian and Alaska Native       36.00   \n",
       "4    PR  Puerto Rico                              Asian       38.10   \n",
       "\n",
       "   male_population  female_population  total_population  veterans  \\\n",
       "0           474878             518088            992966   45267.0   \n",
       "1           113443             123977            237420    7811.0   \n",
       "2            69625              77906            147531    6449.0   \n",
       "3           364442             370105            734547   36565.0   \n",
       "4            30799              35782             66581       NaN   \n",
       "\n",
       "   foreign_born  avg_household_size  \n",
       "0      286690.0                3.24  \n",
       "1       51878.0                2.42  \n",
       "2       25135.0                2.75  \n",
       "3      105572.0                2.56  \n",
       "4           NaN                 NaN  "
      ]
     },
     "execution_count": 27,
     "metadata": {},
     "output_type": "execute_result"
    }
   ],
   "source": [
    "dim_demographic_df.limit(5).toPandas()"
   ]
  },
  {
   "cell_type": "code",
   "execution_count": 28,
   "metadata": {
    "editable": true
   },
   "outputs": [
    {
     "name": "stdout",
     "output_type": "stream",
     "text": [
      "root\n",
      " |-- state: string (nullable = true)\n",
      " |-- state_name: string (nullable = true)\n",
      " |-- race: string (nullable = true)\n",
      " |-- median_age: double (nullable = true)\n",
      " |-- male_population: long (nullable = true)\n",
      " |-- female_population: long (nullable = true)\n",
      " |-- total_population: long (nullable = true)\n",
      " |-- veterans: long (nullable = true)\n",
      " |-- foreign_born: long (nullable = true)\n",
      " |-- avg_household_size: double (nullable = true)\n",
      "\n"
     ]
    }
   ],
   "source": [
    "dim_demographic_df.printSchema()"
   ]
  },
  {
   "cell_type": "code",
   "execution_count": 30,
   "metadata": {
    "editable": true
   },
   "outputs": [],
   "source": [
    "# Making dimesion Airports Dataset\n",
    "dim_airport_df = airport_df.filter((col('state').isin(list(abbrev_state_list.keys())))) \\\n",
    "                .withColumn(\"state_name\",abbrev_state_udf(col(\"state\"))).select('id', 'name', 'type', 'elevation', 'state', 'state_name', 'latitude', 'longitude')"
   ]
  },
  {
   "cell_type": "code",
   "execution_count": 31,
   "metadata": {
    "editable": true
   },
   "outputs": [
    {
     "data": {
      "text/html": [
       "<div>\n",
       "<style scoped>\n",
       "    .dataframe tbody tr th:only-of-type {\n",
       "        vertical-align: middle;\n",
       "    }\n",
       "\n",
       "    .dataframe tbody tr th {\n",
       "        vertical-align: top;\n",
       "    }\n",
       "\n",
       "    .dataframe thead th {\n",
       "        text-align: right;\n",
       "    }\n",
       "</style>\n",
       "<table border=\"1\" class=\"dataframe\">\n",
       "  <thead>\n",
       "    <tr style=\"text-align: right;\">\n",
       "      <th></th>\n",
       "      <th>id</th>\n",
       "      <th>name</th>\n",
       "      <th>type</th>\n",
       "      <th>elevation</th>\n",
       "      <th>state</th>\n",
       "      <th>state_name</th>\n",
       "      <th>latitude</th>\n",
       "      <th>longitude</th>\n",
       "    </tr>\n",
       "  </thead>\n",
       "  <tbody>\n",
       "    <tr>\n",
       "      <th>0</th>\n",
       "      <td>00AA</td>\n",
       "      <td>Aero B Ranch Airport</td>\n",
       "      <td>small_airport</td>\n",
       "      <td>3435</td>\n",
       "      <td>KS</td>\n",
       "      <td>Kansas</td>\n",
       "      <td>38.704021</td>\n",
       "      <td>-101.473907</td>\n",
       "    </tr>\n",
       "    <tr>\n",
       "      <th>1</th>\n",
       "      <td>00AK</td>\n",
       "      <td>Lowell Field</td>\n",
       "      <td>small_airport</td>\n",
       "      <td>450</td>\n",
       "      <td>AK</td>\n",
       "      <td>Alaska</td>\n",
       "      <td>59.949200</td>\n",
       "      <td>-151.695999</td>\n",
       "    </tr>\n",
       "    <tr>\n",
       "      <th>2</th>\n",
       "      <td>00AL</td>\n",
       "      <td>Epps Airpark</td>\n",
       "      <td>small_airport</td>\n",
       "      <td>820</td>\n",
       "      <td>AL</td>\n",
       "      <td>Alabama</td>\n",
       "      <td>34.864799</td>\n",
       "      <td>-86.770302</td>\n",
       "    </tr>\n",
       "    <tr>\n",
       "      <th>3</th>\n",
       "      <td>00AS</td>\n",
       "      <td>Fulton Airport</td>\n",
       "      <td>small_airport</td>\n",
       "      <td>1100</td>\n",
       "      <td>OK</td>\n",
       "      <td>Oklahoma</td>\n",
       "      <td>34.942802</td>\n",
       "      <td>-97.818016</td>\n",
       "    </tr>\n",
       "    <tr>\n",
       "      <th>4</th>\n",
       "      <td>00AZ</td>\n",
       "      <td>Cordes Airport</td>\n",
       "      <td>small_airport</td>\n",
       "      <td>3810</td>\n",
       "      <td>AZ</td>\n",
       "      <td>Arizona</td>\n",
       "      <td>34.305599</td>\n",
       "      <td>-112.165001</td>\n",
       "    </tr>\n",
       "  </tbody>\n",
       "</table>\n",
       "</div>"
      ],
      "text/plain": [
       "     id                  name           type  elevation state state_name  \\\n",
       "0  00AA  Aero B Ranch Airport  small_airport       3435    KS     Kansas   \n",
       "1  00AK          Lowell Field  small_airport        450    AK     Alaska   \n",
       "2  00AL          Epps Airpark  small_airport        820    AL    Alabama   \n",
       "3  00AS        Fulton Airport  small_airport       1100    OK   Oklahoma   \n",
       "4  00AZ        Cordes Airport  small_airport       3810    AZ    Arizona   \n",
       "\n",
       "    latitude   longitude  \n",
       "0  38.704021 -101.473907  \n",
       "1  59.949200 -151.695999  \n",
       "2  34.864799  -86.770302  \n",
       "3  34.942802  -97.818016  \n",
       "4  34.305599 -112.165001  "
      ]
     },
     "execution_count": 31,
     "metadata": {},
     "output_type": "execute_result"
    }
   ],
   "source": [
    "dim_airport_df.limit(5).toPandas()"
   ]
  },
  {
   "cell_type": "code",
   "execution_count": 32,
   "metadata": {
    "editable": true
   },
   "outputs": [
    {
     "name": "stdout",
     "output_type": "stream",
     "text": [
      "root\n",
      " |-- id: string (nullable = true)\n",
      " |-- name: string (nullable = true)\n",
      " |-- type: string (nullable = true)\n",
      " |-- elevation: integer (nullable = true)\n",
      " |-- state: string (nullable = true)\n",
      " |-- state_name: string (nullable = true)\n",
      " |-- latitude: float (nullable = true)\n",
      " |-- longitude: float (nullable = true)\n",
      "\n"
     ]
    }
   ],
   "source": [
    "dim_airport_df.printSchema()"
   ]
  },
  {
   "cell_type": "code",
   "execution_count": 33,
   "metadata": {
    "editable": true
   },
   "outputs": [],
   "source": [
    "# Making Fact data of Immigration\n",
    "fact_immigration_df = immigration_df \\\n",
    "    .join(dim_temperature_df, (immigration_df.state == dim_temperature_df.state) & (trunc(\"arrived_date\",\"mon\") == col(\"date\")), \"left\") \\\n",
    "    .select(\"cicid\",\"year\",\"month\",\"departed_cd\",\"departed_country\",\"arrived_cd\",\"arrived_port\",immigration_df.state,immigration_df.state_name,\"arrived_date\",\"avg_temp\",\"visa\",\"departed_date\")"
   ]
  },
  {
   "cell_type": "code",
   "execution_count": 34,
   "metadata": {
    "editable": true
   },
   "outputs": [
    {
     "data": {
      "text/html": [
       "<div>\n",
       "<style scoped>\n",
       "    .dataframe tbody tr th:only-of-type {\n",
       "        vertical-align: middle;\n",
       "    }\n",
       "\n",
       "    .dataframe tbody tr th {\n",
       "        vertical-align: top;\n",
       "    }\n",
       "\n",
       "    .dataframe thead th {\n",
       "        text-align: right;\n",
       "    }\n",
       "</style>\n",
       "<table border=\"1\" class=\"dataframe\">\n",
       "  <thead>\n",
       "    <tr style=\"text-align: right;\">\n",
       "      <th></th>\n",
       "      <th>cicid</th>\n",
       "      <th>year</th>\n",
       "      <th>month</th>\n",
       "      <th>departed_cd</th>\n",
       "      <th>departed_country</th>\n",
       "      <th>arrived_cd</th>\n",
       "      <th>arrived_port</th>\n",
       "      <th>state</th>\n",
       "      <th>state_name</th>\n",
       "      <th>arrived_date</th>\n",
       "      <th>avg_temp</th>\n",
       "      <th>visa</th>\n",
       "      <th>departed_date</th>\n",
       "    </tr>\n",
       "  </thead>\n",
       "  <tbody>\n",
       "    <tr>\n",
       "      <th>0</th>\n",
       "      <td>963270</td>\n",
       "      <td>2016</td>\n",
       "      <td>3</td>\n",
       "      <td>209</td>\n",
       "      <td>JAPAN</td>\n",
       "      <td>WAS</td>\n",
       "      <td>WASHINGTON DC</td>\n",
       "      <td>FL</td>\n",
       "      <td>Florida</td>\n",
       "      <td>2016-03-06</td>\n",
       "      <td>19.84</td>\n",
       "      <td>Business</td>\n",
       "      <td>2016-03-17</td>\n",
       "    </tr>\n",
       "    <tr>\n",
       "      <th>1</th>\n",
       "      <td>963271</td>\n",
       "      <td>2016</td>\n",
       "      <td>3</td>\n",
       "      <td>209</td>\n",
       "      <td>JAPAN</td>\n",
       "      <td>WAS</td>\n",
       "      <td>WASHINGTON DC</td>\n",
       "      <td>FL</td>\n",
       "      <td>Florida</td>\n",
       "      <td>2016-03-06</td>\n",
       "      <td>19.84</td>\n",
       "      <td>Pleasure</td>\n",
       "      <td>2016-03-09</td>\n",
       "    </tr>\n",
       "    <tr>\n",
       "      <th>2</th>\n",
       "      <td>963272</td>\n",
       "      <td>2016</td>\n",
       "      <td>3</td>\n",
       "      <td>209</td>\n",
       "      <td>JAPAN</td>\n",
       "      <td>WAS</td>\n",
       "      <td>WASHINGTON DC</td>\n",
       "      <td>FL</td>\n",
       "      <td>Florida</td>\n",
       "      <td>2016-03-06</td>\n",
       "      <td>19.84</td>\n",
       "      <td>Pleasure</td>\n",
       "      <td>2016-03-10</td>\n",
       "    </tr>\n",
       "    <tr>\n",
       "      <th>3</th>\n",
       "      <td>963273</td>\n",
       "      <td>2016</td>\n",
       "      <td>3</td>\n",
       "      <td>209</td>\n",
       "      <td>JAPAN</td>\n",
       "      <td>WAS</td>\n",
       "      <td>WASHINGTON DC</td>\n",
       "      <td>FL</td>\n",
       "      <td>Florida</td>\n",
       "      <td>2016-03-06</td>\n",
       "      <td>19.84</td>\n",
       "      <td>Pleasure</td>\n",
       "      <td>2016-03-10</td>\n",
       "    </tr>\n",
       "    <tr>\n",
       "      <th>4</th>\n",
       "      <td>963274</td>\n",
       "      <td>2016</td>\n",
       "      <td>3</td>\n",
       "      <td>209</td>\n",
       "      <td>JAPAN</td>\n",
       "      <td>WAS</td>\n",
       "      <td>WASHINGTON DC</td>\n",
       "      <td>FL</td>\n",
       "      <td>Florida</td>\n",
       "      <td>2016-03-06</td>\n",
       "      <td>19.84</td>\n",
       "      <td>Pleasure</td>\n",
       "      <td>2016-03-10</td>\n",
       "    </tr>\n",
       "  </tbody>\n",
       "</table>\n",
       "</div>"
      ],
      "text/plain": [
       "    cicid  year  month  departed_cd departed_country arrived_cd  \\\n",
       "0  963270  2016      3          209            JAPAN        WAS   \n",
       "1  963271  2016      3          209            JAPAN        WAS   \n",
       "2  963272  2016      3          209            JAPAN        WAS   \n",
       "3  963273  2016      3          209            JAPAN        WAS   \n",
       "4  963274  2016      3          209            JAPAN        WAS   \n",
       "\n",
       "             arrived_port state state_name arrived_date  avg_temp      visa  \\\n",
       "0  WASHINGTON DC             FL    Florida   2016-03-06     19.84  Business   \n",
       "1  WASHINGTON DC             FL    Florida   2016-03-06     19.84  Pleasure   \n",
       "2  WASHINGTON DC             FL    Florida   2016-03-06     19.84  Pleasure   \n",
       "3  WASHINGTON DC             FL    Florida   2016-03-06     19.84  Pleasure   \n",
       "4  WASHINGTON DC             FL    Florida   2016-03-06     19.84  Pleasure   \n",
       "\n",
       "  departed_date  \n",
       "0    2016-03-17  \n",
       "1    2016-03-09  \n",
       "2    2016-03-10  \n",
       "3    2016-03-10  \n",
       "4    2016-03-10  "
      ]
     },
     "execution_count": 34,
     "metadata": {},
     "output_type": "execute_result"
    }
   ],
   "source": [
    "fact_immigration_df.limit(5).toPandas()"
   ]
  },
  {
   "cell_type": "code",
   "execution_count": 35,
   "metadata": {
    "editable": true
   },
   "outputs": [
    {
     "name": "stdout",
     "output_type": "stream",
     "text": [
      "root\n",
      " |-- cicid: integer (nullable = true)\n",
      " |-- year: integer (nullable = true)\n",
      " |-- month: integer (nullable = true)\n",
      " |-- departed_cd: integer (nullable = true)\n",
      " |-- departed_country: string (nullable = true)\n",
      " |-- arrived_cd: string (nullable = true)\n",
      " |-- arrived_port: string (nullable = true)\n",
      " |-- state: string (nullable = true)\n",
      " |-- state_name: string (nullable = true)\n",
      " |-- arrived_date: string (nullable = true)\n",
      " |-- avg_temp: double (nullable = true)\n",
      " |-- visa: string (nullable = true)\n",
      " |-- departed_date: string (nullable = true)\n",
      "\n"
     ]
    }
   ],
   "source": [
    "fact_immigration_df.printSchema()"
   ]
  },
  {
   "cell_type": "markdown",
   "metadata": {
    "editable": true
   },
   "source": [
    "##### Write dim tables & fact table into parquet\n",
    "- Dimesion tables dataset is getting snapshot every time due to a small number of updating.\n",
    "- Dimension Airports dataset is paritioned by State\n",
    "- Fact Immigration table is getting incremental mode by everytime due to a big number of updating. \n",
    "- Fact Immigration dataset is partitioned by Year, Month and State"
   ]
  },
  {
   "cell_type": "code",
   "execution_count": 36,
   "metadata": {
    "editable": true
   },
   "outputs": [],
   "source": [
    "# Writing dataset\n",
    "dim_temperature_df.write.mode(\"overwrite\").parquet(\"output/dim_temperatures\")\n",
    "dim_demographic_df.write.mode(\"overwrite\").parquet(\"output/dim_demographics\")\n",
    "dim_airport_df.write.mode(\"overwrite\").partitionBy('state').parquet(\"output/dim_airports\")\n",
    "fact_immigration_df.write.mode(\"append\").partitionBy('year','month','state').parquet(\"output/fact_immigrations\")"
   ]
  },
  {
   "cell_type": "markdown",
   "metadata": {
    "editable": true
   },
   "source": [
    "#### 4.2 Data Quality Checks\n",
    "Explain the data quality checks you'll perform to ensure the pipeline ran as expected. These could include:\n",
    " * Integrity constraints on the relational database (e.g., unique key, data type, etc.)\n",
    " * Unit tests for the scripts to ensure they are doing the right thing\n",
    " * Source/Count checks to ensure completeness\n",
    " \n",
    "Run Quality Checks"
   ]
  },
  {
   "cell_type": "code",
   "execution_count": 4,
   "metadata": {
    "editable": true
   },
   "outputs": [],
   "source": [
    "# Read written parquet files for data quality check\n",
    "QC_temperature_df = spark.read.parquet(\"output/dim_temperatures\")\n",
    "QC_demographics_df =  spark.read.parquet(\"output/dim_demographics\")\n",
    "QC_airport_df = spark.read.parquet(\"output/dim_airports\")\n",
    "QC_immigration_df = spark.read.parquet(\"output/fact_immigrations\")"
   ]
  },
  {
   "cell_type": "code",
   "execution_count": 5,
   "metadata": {
    "editable": true
   },
   "outputs": [],
   "source": [
    "# Checking for zero record in dataset\n",
    "def QC_zero_record(dfs_name):\n",
    "    for df_name, df in dfs_name.items():\n",
    "        row_count = df.count()\n",
    "        if row_count == 0:\n",
    "            print(f\"FAILED: {df_name} with zero record!\")\n",
    "        else:\n",
    "            print(f\"PASSED: {df_name} with {row_count:,} records.\")"
   ]
  },
  {
   "cell_type": "code",
   "execution_count": 6,
   "metadata": {
    "editable": true
   },
   "outputs": [],
   "source": [
    "# Store all dataframe into a dictionary for the iteration check\n",
    "dfs_name = {\n",
    "    'temperature_dim': QC_temperature_df,\n",
    "    'demographics_dim': QC_demographics_df,\n",
    "    'airport_dim': QC_airport_df,\n",
    "    'immigration_fact': QC_immigration_df\n",
    "}"
   ]
  },
  {
   "cell_type": "code",
   "execution_count": 7,
   "metadata": {
    "editable": true
   },
   "outputs": [
    {
     "name": "stdout",
     "output_type": "stream",
     "text": [
      "PASSED: temperature_dim with 504 records.\n",
      "PASSED: demographics_dim with 174 records.\n",
      "PASSED: airport_dim with 14,575 records.\n",
      "PASSED: immigration_fact with 36,159,930 records.\n"
     ]
    }
   ],
   "source": [
    "# Count data rows of each dataframe\n",
    "QC_zero_record(dfs_name)"
   ]
  },
  {
   "cell_type": "code",
   "execution_count": 18,
   "metadata": {
    "editable": true
   },
   "outputs": [],
   "source": [
    "# create view for all tables (to use spark sql in next step)\n",
    "def create_view_from_df(dfs_name):\n",
    "    for df_name, df in dfs_name.items():\n",
    "        df.createOrReplaceTempView(\"{}\".format(df_name))\n",
    "\n",
    "create_view_from_df(dfs_name)"
   ]
  },
  {
   "cell_type": "code",
   "execution_count": 12,
   "metadata": {
    "editable": true
   },
   "outputs": [],
   "source": [
    "# Make a fuction to check null data\n",
    "def QC_column_null(spark, columns_mapping):\n",
    "    print(\"QC check for null columns:\")\n",
    "    \n",
    "    for view in columns_mapping:\n",
    "        for column in columns_mapping[view]:\n",
    "            querry_info = spark.sql(f\"\"\"SELECT COUNT(*) as record_nums FROM {view}\"\"\")\n",
    "            if querry_info.head()[0] == 0:\n",
    "                print(f\"Found NULL values in column {column} of view {view}\")\n",
    "                \n",
    "        print(f\"{view}: Passed\")"
   ]
  },
  {
   "cell_type": "code",
   "execution_count": 13,
   "metadata": {
    "editable": true
   },
   "outputs": [],
   "source": [
    "# A dictionary of tables and columns to be checked\n",
    "columns_mapping = {\n",
    "    'temperature_dim' :['state','date','avg_temp'],\n",
    "    'demographics_dim' :['state', 'race'],\n",
    "    'airport_dim': ['id', 'state'],\n",
    "    'immigration_fact': ['cicid','year','month','departed_cd','arrived_cd','arrived_date']\n",
    "    }"
   ]
  },
  {
   "cell_type": "code",
   "execution_count": 14,
   "metadata": {
    "editable": true
   },
   "outputs": [
    {
     "name": "stdout",
     "output_type": "stream",
     "text": [
      "QC check for null columns:\n",
      "temperature_dim: Passed\n",
      "demographics_dim: Passed\n",
      "airport_dim: Passed\n",
      "immigration_fact: Passed\n"
     ]
    }
   ],
   "source": [
    "# Check null data in dataset\n",
    "QC_column_null(spark, columns_mapping)"
   ]
  },
  {
   "cell_type": "markdown",
   "metadata": {
    "editable": true
   },
   "source": [
    "### Run query to answer analytic questions"
   ]
  },
  {
   "cell_type": "code",
   "execution_count": 23,
   "metadata": {
    "editable": true
   },
   "outputs": [
    {
     "data": {
      "text/html": [
       "<div>\n",
       "<style scoped>\n",
       "    .dataframe tbody tr th:only-of-type {\n",
       "        vertical-align: middle;\n",
       "    }\n",
       "\n",
       "    .dataframe tbody tr th {\n",
       "        vertical-align: top;\n",
       "    }\n",
       "\n",
       "    .dataframe thead th {\n",
       "        text-align: right;\n",
       "    }\n",
       "</style>\n",
       "<table border=\"1\" class=\"dataframe\">\n",
       "  <thead>\n",
       "    <tr style=\"text-align: right;\">\n",
       "      <th></th>\n",
       "      <th>departed_country</th>\n",
       "      <th>people_count</th>\n",
       "    </tr>\n",
       "  </thead>\n",
       "  <tbody>\n",
       "    <tr>\n",
       "      <th>0</th>\n",
       "      <td>FRANCE</td>\n",
       "      <td>1937</td>\n",
       "    </tr>\n",
       "    <tr>\n",
       "      <th>1</th>\n",
       "      <td>ITALY</td>\n",
       "      <td>1931</td>\n",
       "    </tr>\n",
       "    <tr>\n",
       "      <th>2</th>\n",
       "      <td>UNITED KINGDOM</td>\n",
       "      <td>1898</td>\n",
       "    </tr>\n",
       "    <tr>\n",
       "      <th>3</th>\n",
       "      <td>SPAIN</td>\n",
       "      <td>1196</td>\n",
       "    </tr>\n",
       "    <tr>\n",
       "      <th>4</th>\n",
       "      <td>CHINA, PRC</td>\n",
       "      <td>1101</td>\n",
       "    </tr>\n",
       "  </tbody>\n",
       "</table>\n",
       "</div>"
      ],
      "text/plain": [
       "  departed_country  people_count\n",
       "0           FRANCE          1937\n",
       "1            ITALY          1931\n",
       "2   UNITED KINGDOM          1898\n",
       "3            SPAIN          1196\n",
       "4       CHINA, PRC          1101"
      ]
     },
     "execution_count": 23,
     "metadata": {},
     "output_type": "execute_result"
    }
   ],
   "source": [
    "# Which 5 countries has the most people coming to the New York State on Xmas Eve 2016?\n",
    "sample_query_1 = spark.sql(\"\"\"\n",
    "    WITH CTE_1 AS (\n",
    "        SELECT departed_country, count(*) as people_count\n",
    "        FROM immigration_fact\n",
    "        WHERE state = 'NY' AND arrived_date = '2016-12-24'\n",
    "        GROUP BY departed_country\n",
    "    )\n",
    "    SELECT departed_country, people_count\n",
    "    FROM CTE_1\n",
    "    ORDER BY people_count DESC\n",
    "    LIMIT 5\n",
    "\"\"\")\n",
    "\n",
    "sample_query_1.limit(5).toPandas()"
   ]
  },
  {
   "cell_type": "code",
   "execution_count": 25,
   "metadata": {
    "editable": true
   },
   "outputs": [
    {
     "data": {
      "text/html": [
       "<div>\n",
       "<style scoped>\n",
       "    .dataframe tbody tr th:only-of-type {\n",
       "        vertical-align: middle;\n",
       "    }\n",
       "\n",
       "    .dataframe tbody tr th {\n",
       "        vertical-align: top;\n",
       "    }\n",
       "\n",
       "    .dataframe thead th {\n",
       "        text-align: right;\n",
       "    }\n",
       "</style>\n",
       "<table border=\"1\" class=\"dataframe\">\n",
       "  <thead>\n",
       "    <tr style=\"text-align: right;\">\n",
       "      <th></th>\n",
       "      <th>month</th>\n",
       "      <th>people_count</th>\n",
       "    </tr>\n",
       "  </thead>\n",
       "  <tbody>\n",
       "    <tr>\n",
       "      <th>0</th>\n",
       "      <td>8</td>\n",
       "      <td>659214</td>\n",
       "    </tr>\n",
       "    <tr>\n",
       "      <th>1</th>\n",
       "      <td>10</td>\n",
       "      <td>656882</td>\n",
       "    </tr>\n",
       "    <tr>\n",
       "      <th>2</th>\n",
       "      <td>7</td>\n",
       "      <td>655930</td>\n",
       "    </tr>\n",
       "  </tbody>\n",
       "</table>\n",
       "</div>"
      ],
      "text/plain": [
       "   month  people_count\n",
       "0      8        659214\n",
       "1     10        656882\n",
       "2      7        655930"
      ]
     },
     "execution_count": 25,
     "metadata": {},
     "output_type": "execute_result"
    }
   ],
   "source": [
    "# Top 3 months when the most people go to New York State?\n",
    "sample_query_2 = spark.sql(\"\"\"\n",
    "    WITH CTE_1 AS (\n",
    "        SELECT *\n",
    "        FROM immigration_fact\n",
    "        WHERE state = 'NY'        \n",
    "    ),\n",
    "    CTE_2 AS (\n",
    "        SELECT month, count(*) as people_count\n",
    "        FROM CTE_1\n",
    "        GROUP BY month\n",
    "    )\n",
    "    SELECT month, people_count\n",
    "    FROM CTE_2\n",
    "    ORDER BY people_count DESC\n",
    "    LIMIT 3\n",
    "\"\"\")\n",
    "sample_query_2.limit(3).toPandas()"
   ]
  },
  {
   "cell_type": "code",
   "execution_count": 71,
   "metadata": {
    "editable": true
   },
   "outputs": [
    {
     "data": {
      "text/html": [
       "<div>\n",
       "<style scoped>\n",
       "    .dataframe tbody tr th:only-of-type {\n",
       "        vertical-align: middle;\n",
       "    }\n",
       "\n",
       "    .dataframe tbody tr th {\n",
       "        vertical-align: top;\n",
       "    }\n",
       "\n",
       "    .dataframe thead th {\n",
       "        text-align: right;\n",
       "    }\n",
       "</style>\n",
       "<table border=\"1\" class=\"dataframe\">\n",
       "  <thead>\n",
       "    <tr style=\"text-align: right;\">\n",
       "      <th></th>\n",
       "      <th>state_name</th>\n",
       "      <th>people_count</th>\n",
       "      <th>total_population</th>\n",
       "    </tr>\n",
       "  </thead>\n",
       "  <tbody>\n",
       "    <tr>\n",
       "      <th>0</th>\n",
       "      <td>Texas</td>\n",
       "      <td>1626820</td>\n",
       "      <td>4042606</td>\n",
       "    </tr>\n",
       "    <tr>\n",
       "      <th>1</th>\n",
       "      <td>Hawaii</td>\n",
       "      <td>2315748</td>\n",
       "      <td>352766</td>\n",
       "    </tr>\n",
       "    <tr>\n",
       "      <th>2</th>\n",
       "      <td>California</td>\n",
       "      <td>6414761</td>\n",
       "      <td>9863271</td>\n",
       "    </tr>\n",
       "    <tr>\n",
       "      <th>3</th>\n",
       "      <td>New York</td>\n",
       "      <td>6526484</td>\n",
       "      <td>8706318</td>\n",
       "    </tr>\n",
       "    <tr>\n",
       "      <th>4</th>\n",
       "      <td>Florida</td>\n",
       "      <td>8077763</td>\n",
       "      <td>2695643</td>\n",
       "    </tr>\n",
       "  </tbody>\n",
       "</table>\n",
       "</div>"
      ],
      "text/plain": [
       "   state_name  people_count  total_population\n",
       "0       Texas       1626820           4042606\n",
       "1      Hawaii       2315748            352766\n",
       "2  California       6414761           9863271\n",
       "3    New York       6526484           8706318\n",
       "4     Florida       8077763           2695643"
      ]
     },
     "execution_count": 71,
     "metadata": {},
     "output_type": "execute_result"
    }
   ],
   "source": [
    "# Top 5 arrival states and their total_population\n",
    "sample_query_3 = spark.sql(\"\"\"\n",
    "    WITH CTE AS (\n",
    "    SELECT immigration_fact.state_name as state_name, immigration_fact.state as state_key, count(*) as people_count\n",
    "    FROM immigration_fact \n",
    "    GROUP BY immigration_fact.state_name, immigration_fact.state\n",
    "    ORDER BY people_count DESC\n",
    "    LIMIT 5),\n",
    "    \n",
    "    CTE_2 AS (\n",
    "    SELECT CTE.state_name, people_count, total_population, RANK () OVER (PARTITION BY CTE.state_name ORDER BY total_population DESC) AS ranking\n",
    "    FROM CTE LEFT JOIN demographics_dim\n",
    "    on CTE.state_key =  demographics_dim.state\n",
    "    ORDER BY people_count)\n",
    "    \n",
    "    SELECT state_name, people_count, total_population\n",
    "    FROM CTE_2\n",
    "    WHERE ranking=1\n",
    "    ORDER BY people_count DESC\n",
    "    \n",
    "\"\"\")\n",
    "sample_query_3.toPandas()"
   ]
  },
  {
   "cell_type": "markdown",
   "metadata": {
    "editable": true
   },
   "source": [
    "#### 4.3 Data dictionary \n",
    "Create a data dictionary for your data model. For each field, provide a brief description of what the data is and where it came from. You can include the data dictionary in the notebook or in a separate file."
   ]
  },
  {
   "cell_type": "markdown",
   "metadata": {
    "editable": true
   },
   "source": [
    "#### Fact Table\n",
    " **Immigration**\n",
    "- cicid (integer) - ID\n",
    "- year (integer) -  Immigration year\n",
    "- month (integer) - Immigration month\n",
    "- departed_cd (integer) - Departed Country Code \n",
    "- departed_country (string) -  Departed Country Name\n",
    "- arrived_cd (string) - Arrival port code\n",
    "- arrived_port (string) - Arrival port name\n",
    "- state (string) - State Code of Port\n",
    "- state_name (string) - State Name\n",
    "- arrived_date (timestamp) - Arrival Date\n",
    "- avg_temp (double) - Average Temperatures \n",
    "- visa (string) - Visa type\n",
    "- departed_date (timestamp) - Departed date\n",
    "\n",
    "#### Dimension Tables\n",
    "**Temperatures**\n",
    "- date (timestamp) - Date of average temperature\n",
    "- state (string) - State Code\n",
    "- state_name (string) - State Name\n",
    "- avg_temp (double) - Average temperature\n",
    " \n",
    "**Demographics**\n",
    " - state (string) - State Code\n",
    " - state_name (string) - State Name\n",
    " - race: (string) - Human race\n",
    " - median_age (double) - State's Median Age\n",
    " - male_population (long) - State's Male Population \n",
    " - female_population (long) - State's Female Population\n",
    " - total_population (long) - State's Total Population\n",
    " - veterans (long) - State's number veterans\n",
    " - foreign_born (long) - State's Foreign Born\n",
    " - avg_household_size (double) - State's Average Household Size\n",
    " \n",
    "**Airports**\n",
    "- id (string) - ID\n",
    "- name (string) - Airport's name\n",
    "- type (string) - Aiport's type (small, large, medium)\n",
    "- elevation (string) - airpot's elevation (ft)\n",
    "- state (string) - Code of State in which aiport located\n",
    "- state_name (string) - State name\n",
    "- latitude (float) - Airpot's Latitude\n",
    "- longitude (float) - Airpot's Longitude\n"
   ]
  },
  {
   "cell_type": "markdown",
   "metadata": {
    "editable": true
   },
   "source": [
    "#### Step 5: Complete Project Write Up"
   ]
  },
  {
   "cell_type": "markdown",
   "metadata": {
    "editable": true
   },
   "source": [
    "##### Clearly state the rationale for the choice of tools and technologies for the project.\n",
    "\n",
    "- I choose Apache Spark for this project because of its powerful of distributed system to process a big number of data (more than 30mil rows of fact table) and the SparkSQL become handy for wide range of usage from multiple user to check the analytic queries and perform very fast without any problem."
   ]
  },
  {
   "cell_type": "markdown",
   "metadata": {
    "editable": true
   },
   "source": [
    "##### Propose how often the data should be updated and why.\n",
    "- Dim Temperature is updated daily to get the newest everyday \n",
    "- Dim Airports and demographics are not changing frequently so they can be updated quarterly \n",
    "- Fact Immigration table should be updated daily withn incremental mode (append new rows) into existed dataset. \n"
   ]
  },
  {
   "cell_type": "markdown",
   "metadata": {
    "editable": true
   },
   "source": [
    "##### Write a description of how you would approach the problem differently under the following scenarios:\n",
    " * The data was increased by 100x.\n",
    " \n",
    " > Spark and SparkSQL is still manageable of the 100 times size bigger compared to the current ones. For better experienced analysis and real-time monitoring, system can add more cluster nodes on cloud computing services in AWS such as Amazon EMR, AWS Glue.\n",
    " \n",
    " * The data populates a dashboard that must be updated on a daily basis by 7am every day.\n",
    " \n",
    " > Airflow can be handle to set the schedule of updating on daily basis by 7am.\n",
    " \n",
    " * The database needed to be accessed by 100+ people.\n",
    " > Utilizing more cloud computing to serve more people at the same time. Staging the data into AWS S3 as a data lake storage and ETL into AWS Redshift with the good settings on sever cloud computing."
   ]
  },
  {
   "cell_type": "code",
   "execution_count": null,
   "metadata": {
    "editable": true
   },
   "outputs": [],
   "source": []
  }
 ],
 "metadata": {
  "kernelspec": {
   "display_name": "Python 3",
   "language": "python",
   "name": "python3"
  },
  "language_info": {
   "codemirror_mode": {
    "name": "ipython",
    "version": 3
   },
   "file_extension": ".py",
   "mimetype": "text/x-python",
   "name": "python",
   "nbconvert_exporter": "python",
   "pygments_lexer": "ipython3",
   "version": "3.6.3"
  }
 },
 "nbformat": 4,
 "nbformat_minor": 4
}
